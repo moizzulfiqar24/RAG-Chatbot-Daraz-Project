{
 "cells": [
  {
   "cell_type": "code",
   "execution_count": null,
   "metadata": {},
   "outputs": [],
   "source": [
    "import nltk\n",
    "from nltk.translate.bleu_score import sentence_bleu, SmoothingFunction\n",
    "from nltk.translate.meteor_score import meteor_score\n",
    "from rouge import Rouge\n",
    "from sklearn.metrics import f1_score\n",
    "from collections import Counter\n",
    "\n",
    "!python3 -m nltk.downloader -d /Users/moiz/nltk_data punkt\n",
    "nltk.data.path.append('/Users/moiz/nltk_data')\n",
    "\n",
    "def read_file(file_path):\n",
    "    with open(file_path, 'r', encoding='utf-8') as file:\n",
    "        return file.read().strip()\n",
    "\n",
    "def calculate_bleu(reference, candidate):\n",
    "    reference_tokens = [nltk.word_tokenize(reference)]\n",
    "    candidate_tokens = nltk.word_tokenize(candidate)\n",
    "    smooth = SmoothingFunction().method1\n",
    "    return sentence_bleu(reference_tokens, candidate_tokens, smoothing_function=smooth)\n",
    "\n",
    "def calculate_meteor(reference, candidate):\n",
    "    reference_tokens = nltk.word_tokenize(reference)\n",
    "    candidate_tokens = nltk.word_tokenize(candidate)\n",
    "    return meteor_score([reference_tokens], candidate_tokens)\n",
    "\n",
    "def calculate_rouge(reference, candidate):\n",
    "    rouge = Rouge()\n",
    "    scores = rouge.get_scores(candidate, reference)[0]\n",
    "    return scores\n",
    "\n",
    "def calculate_f1(reference, candidate):\n",
    "    reference_tokens = nltk.word_tokenize(reference)\n",
    "    candidate_tokens = nltk.word_tokenize(candidate)\n",
    "    common = Counter(reference_tokens) & Counter(candidate_tokens)\n",
    "    true_positives = sum(common.values())\n",
    "    pred_positives = len(candidate_tokens)\n",
    "    real_positives = len(reference_tokens)\n",
    "    precision = true_positives / pred_positives if pred_positives > 0 else 0\n",
    "    recall = true_positives / real_positives if real_positives > 0 else 0\n",
    "    f1 = 2 * (precision * recall) / (precision + recall) if (precision + recall) > 0 else 0\n",
    "    return f1"
   ]
  },
  {
   "cell_type": "markdown",
   "metadata": {},
   "source": [
    "# Main Data"
   ]
  },
  {
   "cell_type": "code",
   "execution_count": null,
   "metadata": {},
   "outputs": [],
   "source": [
    "path_to_candidateMain = 'candidateMain.txt' \n",
    "\n",
    "reference_textMain_Mistral = \"Daraz's refund policy allows for returns or refunds on items that are damaged, defective, incorrect, or incomplete. However, for device-related issues after usage or beyond the return policy period, it is recommended to check if the item is covered under Seller or Brand Warranty. Items that are non-returnable include any custom-made items. For Buy More, Save More orders, partial cancellations are not permitted, but partial returns are allowed. This means that if you wish to return certain items from a Buy More, Save More order, you can do so, but you would need to cancel the entire order if you want to return one or two specific products. After the returned items have been quality checked by Daraz, a partial refund will be issued to the customer on an item-level basis for each bundle. To submit a return request, customers must do so within 14 days of receiving their order. Decisions on returns and refunds will be taken by Daraz in its sole discretion. Customers attempting to circumvent the terms and conditions and abuse subsidies by creating new accounts will be unable to place their orders.\"\n",
    "reference_textMain_Phi = \"Thank you for your email. We appreciate your inquiry. Daraz has a clear cancellation and return policy for Buy More, Save More orders. Full refunds are only provided for damaged, defective, incorrect, or incomplete items. If the item is a device-related issue after the return policy period or not covered under the Seller or Brand Warranty, the refund may not be provided. Regarding partial cancellations, Daraz does not allow it. However, customers have the option to return certain items out of their total Buy More, Save More order. If a certain number of products from the order are eligible for a return, a partial refund will be issued after the items have been returned by the customer and checked by Daraz. In case you are not satisfied with your purchase, you can submit a return request within 14 days from the delivery date. Daraz makes the final decision on returns and refunds, and they will be provided in their sole discretion. Customers are not allowed to circumvent the terms and conditions and abuse subsidies by creating new accounts.\"\n",
    "reference_textMain_Qwen = \"\"\n",
    "reference_textMain_Zephyr = \"\"\n",
    "candidate_textMain = read_file(path_to_candidateMain)\n",
    "\n",
    "bleu_scoreMain = calculate_bleu(reference_textMain, candidate_textMain)\n",
    "meteor_scoreMain = calculate_meteor(reference_textMain, candidate_textMain)\n",
    "rouge_scoresMain = calculate_rouge(reference_textMain, candidate_textMain)\n",
    "f1_scoreMain = calculate_f1(reference_textMain, candidate_textMain)\n",
    "\n",
    "print(\"BLEU Score (Main Data):\", bleu_scoreMain)\n",
    "print(\"METEOR Score (Main Data):\", meteor_scoreMain)\n",
    "print(\"ROUGE Scores (Main Data):\", rouge_scoresMain)\n",
    "print(\"F1 Score (Main Data):\", f1_scoreMain)"
   ]
  },
  {
   "cell_type": "markdown",
   "metadata": {},
   "source": [
    "# Seller"
   ]
  },
  {
   "cell_type": "code",
   "execution_count": null,
   "metadata": {},
   "outputs": [],
   "source": [
    "path_to_referenceSeller = 'referenceSeller.txt'  \n",
    "path_to_candidateSeller = 'candidateSeller.txt' \n",
    "\n",
    "reference_textSeller = read_file(path_to_referenceSeller)\n",
    "candidate_textSeller = read_file(path_to_candidateSeller)\n",
    "\n",
    "bleu_scoreSeller = calculate_bleu(reference_text, candidate_textSeller)\n",
    "meteor_scoreSeller = calculate_meteor(reference_text, candidate_textSeller)\n",
    "rouge_scoresSeller = calculate_rouge(reference_text, candidate_textSeller)\n",
    "f1_scoreSeller = calculate_f1(reference_text, candidate_textSeller)\n",
    "\n",
    "print(\"BLEU Score (Seller):\", bleu_scoreSeller)\n",
    "print(\"METEOR Score (Seller):\", meteor_scoreSeller)\n",
    "print(\"ROUGE Scores (Seller):\", rouge_scoresSeller)\n",
    "print(\"F1 Score (Seller):\", f1_scoreSeller)"
   ]
  }
 ],
 "metadata": {
  "kernelspec": {
   "display_name": "Python 3",
   "language": "python",
   "name": "python3"
  },
  "language_info": {
   "codemirror_mode": {
    "name": "ipython",
    "version": 3
   },
   "file_extension": ".py",
   "mimetype": "text/x-python",
   "name": "python",
   "nbconvert_exporter": "python",
   "pygments_lexer": "ipython3",
   "version": "3.11.4"
  }
 },
 "nbformat": 4,
 "nbformat_minor": 2
}
