{
 "cells": [
  {
   "cell_type": "code",
   "execution_count": 1,
   "metadata": {},
   "outputs": [],
   "source": [
    "from sentence_transformers import SentenceTransformer, util\n",
    "import numpy as np\n",
    "import torch\n",
    "import re\n",
    "from gensim.models.doc2vec import Doc2Vec, TaggedDocument\n",
    "from langchain.document_loaders import TextLoader\n",
    "from langchain.text_splitter import CharacterTextSplitter, RecursiveCharacterTextSplitter, NLTKTextSplitter\n",
    "from langchain.embeddings.openai import OpenAIEmbeddings\n",
    "from langchain.vectorstores import Chroma\n",
    "from sentence_transformers import SentenceTransformer\n",
    "from langchain.embeddings import GPT4AllEmbeddings\n",
    "\n",
    "search_query = \"What are your refund policies?\"\n",
    "search_query = re.sub(r'\\bDaraz\\b\\s*', '', search_query, flags=re.IGNORECASE)\n",
    "file_name = \"DarazDataMain.txt\"\n",
    "chunkSize = 1500\n",
    "\n",
    "with open(file_name, 'r', encoding=\"utf8\") as f:\n",
    "    products = f.readlines()"
   ]
  },
  {
   "cell_type": "code",
   "execution_count": 2,
   "metadata": {},
   "outputs": [
    {
     "name": "stdout",
     "output_type": "stream",
     "text": [
      "Query: What are your refund policies?\n",
      "\n",
      "Score: 0.5706478953361511\n",
      "Product Details: 1.19 “Returns and Refunds Policy” shall mean the applicable Company policies which govern the procedure for returns and refunds of Products by Customers on the relevant Channels located at Returns and Refunds Policy of Pakistan.\n",
      "\n",
      "\n",
      "Score: 0.549439549446106\n",
      "Product Details: Home & Living Bedding & Bath, Furniture & Lighting, Kitchen & Dining, Home Décor, Home Improvements, Household & Home Storage Supplies, Lawn & Garden,Other Accessories Change of mind isnot applicable for return and refund. If the item received is damaged, defective, incorrect, or incomplete, a refund will be issued based on Daraz's assessment. Note: For device-related issues after usage or expiration of return policy period, please check if the item is covered under Seller orBrand Warranty. Refer to our Warranty Policy for information on the different warranty types and ways to contact the seller/manufacturer. Items that are non-returnable: Any custom-made items\n",
      "\n"
     ]
    }
   ],
   "source": [
    "model = SentenceTransformer('all-MiniLM-L6-v2')\n",
    "product_embeddings = model.encode(products, convert_to_tensor=True)\n",
    "\n",
    "def search_products(query, k):\n",
    "    query_embedding = model.encode(query, convert_to_tensor=True)\n",
    "    cosine_scores = util.pytorch_cos_sim(query_embedding, product_embeddings)[0]\n",
    "    top_results = torch.topk(cosine_scores, k=k)\n",
    "\n",
    "    print(\"Query:\", query)\n",
    "    for score, idx in zip(top_results[0], top_results[1]):\n",
    "        print(\"\\nScore:\", score.item())\n",
    "        print(\"Product Details:\", products[idx])\n",
    "\n",
    "search_products(search_query, 2)"
   ]
  },
  {
   "cell_type": "code",
   "execution_count": 3,
   "metadata": {},
   "outputs": [],
   "source": [
    "query = search_query\n",
    "loader = TextLoader(file_name)\n",
    "docs = loader.load()"
   ]
  },
  {
   "cell_type": "code",
   "execution_count": 4,
   "metadata": {},
   "outputs": [
    {
     "name": "stderr",
     "output_type": "stream",
     "text": [
      "Created a chunk of size 26958, which is longer than the specified 1500\n",
      "Created a chunk of size 2500, which is longer than the specified 1500\n",
      "Created a chunk of size 2032, which is longer than the specified 1500\n",
      "Created a chunk of size 1537, which is longer than the specified 1500\n",
      "Created a chunk of size 1662, which is longer than the specified 1500\n",
      "Created a chunk of size 2178, which is longer than the specified 1500\n",
      "Created a chunk of size 1608, which is longer than the specified 1500\n",
      "Created a chunk of size 2486, which is longer than the specified 1500\n",
      "Created a chunk of size 2510, which is longer than the specified 1500\n",
      "Created a chunk of size 1754, which is longer than the specified 1500\n",
      "Created a chunk of size 3013, which is longer than the specified 1500\n"
     ]
    }
   ],
   "source": [
    "chunker01 = \"Fixed-size (in characters) Overlapping Sliding Window\"\n",
    "\n",
    "text_splitter = CharacterTextSplitter(separator=\"\\n\", chunk_size=chunkSize, chunk_overlap=20)\n",
    "splits = text_splitter.split_documents(docs)\n",
    "\n",
    "persist_directory = 'chroma/' + str(file_name) + \" - Chunker = \" + chunker01\n",
    "vectordb = Chroma.from_documents(\n",
    "    documents=splits,\n",
    "    embedding=GPT4AllEmbeddings(),\n",
    "    persist_directory=persist_directory\n",
    ")\n",
    "vectordb.persist()\n",
    "docs01 = vectordb.similarity_search_with_score(query, k=2)"
   ]
  },
  {
   "cell_type": "code",
   "execution_count": 5,
   "metadata": {},
   "outputs": [],
   "source": [
    "chunker02 = \"Recursive Structure Aware Splitting\"\n",
    "\n",
    "text_splitter = RecursiveCharacterTextSplitter(separators = [\"\\n\\n\", \"\\n\"], chunk_size=chunkSize, chunk_overlap=20)\n",
    "splits = text_splitter.split_documents(docs)\n",
    "\n",
    "persist_directory = 'chroma/' + str(file_name) + \" - Chunker = \" + chunker02\n",
    "vectordb = Chroma.from_documents(\n",
    "    documents=splits,\n",
    "    embedding=GPT4AllEmbeddings(),\n",
    "    persist_directory=persist_directory\n",
    ")\n",
    "vectordb.persist()\n",
    "docs02 = vectordb.similarity_search_with_score(query, k=2)"
   ]
  },
  {
   "cell_type": "code",
   "execution_count": 6,
   "metadata": {},
   "outputs": [
    {
     "name": "stderr",
     "output_type": "stream",
     "text": [
      "Created a chunk of size 2157, which is longer than the specified 1500\n",
      "Created a chunk of size 1692, which is longer than the specified 1500\n",
      "Created a chunk of size 1967, which is longer than the specified 1500\n",
      "Created a chunk of size 1830, which is longer than the specified 1500\n"
     ]
    }
   ],
   "source": [
    "chunker03 = \"NLP Chunking: Tracking Topic Changes\"\n",
    "\n",
    "text_splitter = NLTKTextSplitter(chunk_size=chunkSize)#, separator=\"\\n\")\n",
    "splits = text_splitter.split_documents(docs)\n",
    "\n",
    "persist_directory = 'chroma/' + str(file_name) + \" - Chunker = \" + chunker03\n",
    "vectordb = Chroma.from_documents(\n",
    "    documents=splits,\n",
    "    embedding=GPT4AllEmbeddings(),\n",
    "    persist_directory=persist_directory\n",
    ")\n",
    "vectordb.persist()\n",
    "docs03 = vectordb.similarity_search_with_score(query, k=2)"
   ]
  },
  {
   "cell_type": "code",
   "execution_count": 7,
   "metadata": {},
   "outputs": [
    {
     "name": "stdout",
     "output_type": "stream",
     "text": [
      "question = \"What are your refund policies?\"\n"
     ]
    }
   ],
   "source": [
    "print(\"question = \\\"\" + query + \"\\\"\")\n",
    "\n",
    "with open(\"outputMain.txt\", \"w\") as file:\n",
    "    count = 1\n",
    "    for result in docs01:\n",
    "        file.write(f\"response{count} = \\\"{result[0].page_content}\\\"\\n\")\n",
    "        count += 1\n",
    "\n",
    "    count = 1\n",
    "    for result in docs02:\n",
    "        file.write(f\"response{count} = \\\"{result[0].page_content}\\\"\\n\")\n",
    "        count += 1\n",
    "\n",
    "    count = 1\n",
    "    for result in docs03:\n",
    "        file.write(f\"response{count} = \\\"{result[0].page_content}\\\"\\n\")\n",
    "        count += 1"
   ]
  },
  {
   "cell_type": "code",
   "execution_count": 8,
   "metadata": {},
   "outputs": [],
   "source": [
    "import re\n",
    "import textwrap\n",
    "\n",
    "def clean_text(text):\n",
    "    # Remove any image file references\n",
    "    text = re.sub(r\"\\S+\\.(png|jpg|jpeg|gif)\\s*\", \"\", text)\n",
    "\n",
    "    # Normalize spacing issues\n",
    "    text = re.sub(r\"\\s+\", \" \", text).strip()\n",
    "\n",
    "    # Correct common typographical errors\n",
    "    text = re.sub(r\"isnot\", \"is not\", text)\n",
    "    text = re.sub(r\"orBrand\", \"or Brand\", text)\n",
    "    text = re.sub(r\"ourWarranty\", \"our Warranty\", text)\n",
    "\n",
    "    # Remove redundant response indicators\n",
    "    text = re.sub(r\"response\\d+\\s*=\\s*\\\"\", \"\", text)\n",
    "\n",
    "    # Remove numbers followed by a dot, e.g., \"1.\"\n",
    "    text = re.sub(r\"\\d+\\.\", \"\", text)\n",
    "\n",
    "    # Remove numbers followed directly by a dash, e.g., \"2-\"\n",
    "    text = re.sub(r\"\\d+-\", \"\", text)\n",
    "\n",
    "    # Deduplicate text\n",
    "    lines = text.split('.')\n",
    "    seen = set()\n",
    "    unique_lines = []\n",
    "    for line in lines:\n",
    "        line_clean = line.strip()\n",
    "        if line_clean not in seen:\n",
    "            seen.add(line_clean)\n",
    "            unique_lines.append(line_clean)\n",
    "\n",
    "    # Reconstruct text with clean lines\n",
    "    cleaned_text = '. '.join(unique_lines).strip()\n",
    "    if not cleaned_text.endswith('.'):\n",
    "        cleaned_text += '.'\n",
    "\n",
    "    # Split into multiple lines with a reasonable width\n",
    "    wrapped_text = textwrap.fill(cleaned_text, width=100)\n",
    "\n",
    "    return wrapped_text\n",
    "\n",
    "with open('outputMain.txt', 'r') as file:\n",
    "    raw_text = file.read()\n",
    "    \n",
    "cleaned_text = clean_text(raw_text)\n",
    "\n",
    "with open('outputMain.txt', 'w') as file:\n",
    "    file.write(cleaned_text)"
   ]
  },
  {
   "cell_type": "code",
   "execution_count": 9,
   "metadata": {},
   "outputs": [],
   "source": [
    "loader = TextLoader(\"outputMain.txt\")\n",
    "docs = loader.load()\n",
    "\n",
    "text_splitter = CharacterTextSplitter(separator=\"\\n\", chunk_size=chunkSize, chunk_overlap=0)\n",
    "splits = text_splitter.split_documents(docs)\n",
    "\n",
    "persist_directory = 'chroma/' + str(file_name) + \" - On Final Clean Output\"\n",
    "vectordb = Chroma.from_documents(\n",
    "    documents=splits,\n",
    "    embedding=GPT4AllEmbeddings(),\n",
    "    persist_directory=persist_directory\n",
    ")\n",
    "vectordb.persist()\n",
    "docs = vectordb.similarity_search_with_score(query, k=2)"
   ]
  },
  {
   "cell_type": "code",
   "execution_count": 10,
   "metadata": {},
   "outputs": [
    {
     "name": "stdout",
     "output_type": "stream",
     "text": [
      "question = \"What are your refund policies?\"\n",
      "response1 = \"Home & Living Bedding & Bath, Furniture & Lighting, Kitchen & Dining, Home Décor, Home Improvements,\n",
      "Household & Home Storage Supplies, Lawn & Garden,Other Accessories Change of mind is not applicable\n",
      "for return and refund. If the item received is damaged, defective, incorrect, or incomplete, a\n",
      "refund will be issued based on Daraz's assessment. Note: For device-related issues after usage or\n",
      "expiration of return policy period, please check if the item is covered under Seller or Brand\n",
      "Warranty. Refer to our Warranty Policy for information on the different warranty types and ways to\n",
      "contact the seller/manufacturer. Items that are non-returnable: Any custom-made items\" What is the\n",
      "cancellation and return policy for Buy More, Save More orders? Partial cancellations are not allowed\n",
      "but partial returns are allowed on Buy More, Save More orders i. e. you will not be able to cancel 1\n",
      "or 2 products in your order and would instead have to cancel the entire order. But if you decide to\n",
      "apply for a return, you can return certain items out of your total Buy More, Save More order. If a\n",
      "certain number of products from a Buy More, Save More order are eligible for a return, partial\n",
      "refund will be issued to the customer after these items have been returned by the customer & quality\n",
      "checked by Daraz. Partial refunds are calculated on item level of each bundle. The total amount paid\n",
      "for the order will be divided by the quantity of products, multiplied by the number of items you\"\n",
      "response2 = \"What is the cancellation and return policy for Buy More, Save More orders? Partial cancellations are\n",
      "not allowed but partial returns are allowed on Buy More, Save More orders i. e. you will not be able\n",
      "to cancel 1 or 2 products in your order and would instead have to cancel the entire order. But if\n",
      "you decide to apply for a return, you can return certain items out of your total Buy More, Save More\n",
      "order. If a certain number of products from a Buy More, Save More order are eligible for a return,\n",
      "partial refund will be issued to the customer after these items have been returned by the customer &\n",
      "quality checked by Daraz. Partial refunds are calculated on item level of each bundle. The total\n",
      "amount paid for the order will be divided by the quantity of products, multiplied by the number of\n",
      "items you have returned. Cancellation is not allowed after your order is processed by the seller. In\n",
      "case you have received your order but are not satisfied with your purchase, you can submit a return\n",
      "request within 14 days from the day it is delivered to you. Decision on returns and refunds taken by\n",
      "Daraz will be final in its sole discretion. Returning Buy More, Save More products under ‘Change of\n",
      "mind’ return reason is not applicable. In case a customer tries to circumvent the terms and\n",
      "conditions and abuse subsidies by creating new accounts, they will be unable to place their order. \"\n",
      "What is the cancellation and return policy for Buy More, Save More orders? Partial cancellations are\"\n"
     ]
    }
   ],
   "source": [
    "print(\"question = \\\"\" + query + \"\\\"\")\n",
    "count = 1\n",
    "for result in docs:\n",
    "    print(f\"response\" + str(count) + \" = \\\"\" + result[0].page_content + \"\\\"\")  \n",
    "    count+=1"
   ]
  },
  {
   "cell_type": "code",
   "execution_count": 11,
   "metadata": {},
   "outputs": [],
   "source": [
    "# with open('output.txt', 'r') as file:\n",
    "#     content = file.readlines()"
   ]
  },
  {
   "cell_type": "markdown",
   "metadata": {},
   "source": [
    "### See Img1 in Images Folder"
   ]
  },
  {
   "cell_type": "markdown",
   "metadata": {},
   "source": []
  }
 ],
 "metadata": {
  "kernelspec": {
   "display_name": "Python 3",
   "language": "python",
   "name": "python3"
  },
  "language_info": {
   "codemirror_mode": {
    "name": "ipython",
    "version": 3
   },
   "file_extension": ".py",
   "mimetype": "text/x-python",
   "name": "python",
   "nbconvert_exporter": "python",
   "pygments_lexer": "ipython3",
   "version": "3.11.4"
  }
 },
 "nbformat": 4,
 "nbformat_minor": 2
}
