{
  "cells": [
    {
      "cell_type": "code",
      "execution_count": 2,
      "metadata": {
        "colab": {
          "base_uri": "https://localhost:8080/"
        },
        "id": "hPpbCvsGGM_V",
        "outputId": "2536c57d-de3e-4d0a-b9da-8202caca39e0"
      },
      "outputs": [
        {
          "name": "stdout",
          "output_type": "stream",
          "text": [
            "Drive already mounted at /content/drive; to attempt to forcibly remount, call drive.mount(\"/content/drive\", force_remount=True).\n"
          ]
        }
      ],
      "source": [
        "from google.colab import drive\n",
        "drive.mount('/content/drive')"
      ]
    },
    {
      "cell_type": "code",
      "execution_count": 3,
      "metadata": {
        "colab": {
          "base_uri": "https://localhost:8080/",
          "height": 1000,
          "referenced_widgets": [
            "fa751b38203e431b8142a790e7e43bd2",
            "c988c697f01648f096880a75932641ba",
            "b7c9382bf3194f8b99894619253080fd",
            "460dec0f7cb84210a6d00501e03b638e",
            "08b9125f45f14701b31750bdaee65b39",
            "5c83641556c540868d08ab7ac076f30c",
            "1ed635e62c284a3cb5d9cb76d8a109d2",
            "dbbf759698b041d3ba692d961f0d8772",
            "b06ea6f613aa48bb8747b50e62ac2a68",
            "0955f29e3b384cda83295067acfaa09d",
            "9836fb4a23a44c7290e898c5b4aa2480"
          ]
        },
        "execution": {
          "iopub.execute_input": "2024-05-02T06:48:39.127481Z",
          "iopub.status.busy": "2024-05-02T06:48:39.127075Z",
          "iopub.status.idle": "2024-05-02T06:54:18.326284Z",
          "shell.execute_reply": "2024-05-02T06:54:18.324842Z",
          "shell.execute_reply.started": "2024-05-02T06:48:39.127451Z"
        },
        "id": "r8GJCNKHF_Hl",
        "outputId": "a890e741-3f90-4f8c-fe27-0b65c7442b69",
        "trusted": true
      },
      "outputs": [
        {
          "name": "stdout",
          "output_type": "stream",
          "text": [
            "Requirement already satisfied: tiktoken in /usr/local/lib/python3.10/dist-packages (0.6.0)\n",
            "Requirement already satisfied: regex>=2022.1.18 in /usr/local/lib/python3.10/dist-packages (from tiktoken) (2023.12.25)\n",
            "Requirement already satisfied: requests>=2.26.0 in /usr/local/lib/python3.10/dist-packages (from tiktoken) (2.31.0)\n",
            "Requirement already satisfied: charset-normalizer<4,>=2 in /usr/local/lib/python3.10/dist-packages (from requests>=2.26.0->tiktoken) (3.3.2)\n",
            "Requirement already satisfied: idna<4,>=2.5 in /usr/local/lib/python3.10/dist-packages (from requests>=2.26.0->tiktoken) (3.7)\n",
            "Requirement already satisfied: urllib3<3,>=1.21.1 in /usr/local/lib/python3.10/dist-packages (from requests>=2.26.0->tiktoken) (2.0.7)\n",
            "Requirement already satisfied: certifi>=2017.4.17 in /usr/local/lib/python3.10/dist-packages (from requests>=2.26.0->tiktoken) (2024.2.2)\n",
            "Requirement already satisfied: tiktoken in /usr/local/lib/python3.10/dist-packages (0.6.0)\n",
            "Requirement already satisfied: transformers_stream_generator in /usr/local/lib/python3.10/dist-packages (0.0.5)\n",
            "Requirement already satisfied: einops in /usr/local/lib/python3.10/dist-packages (0.8.0)\n",
            "Requirement already satisfied: optimum in /usr/local/lib/python3.10/dist-packages (1.19.1)\n",
            "Requirement already satisfied: auto-gptq in /usr/local/lib/python3.10/dist-packages (0.7.1)\n",
            "Requirement already satisfied: regex>=2022.1.18 in /usr/local/lib/python3.10/dist-packages (from tiktoken) (2023.12.25)\n",
            "Requirement already satisfied: requests>=2.26.0 in /usr/local/lib/python3.10/dist-packages (from tiktoken) (2.31.0)\n",
            "Requirement already satisfied: transformers>=4.26.1 in /usr/local/lib/python3.10/dist-packages (from transformers_stream_generator) (4.40.1)\n",
            "Requirement already satisfied: coloredlogs in /usr/local/lib/python3.10/dist-packages (from optimum) (15.0.1)\n",
            "Requirement already satisfied: sympy in /usr/local/lib/python3.10/dist-packages (from optimum) (1.12)\n",
            "Requirement already satisfied: torch>=1.11 in /usr/local/lib/python3.10/dist-packages (from optimum) (2.2.1+cu121)\n",
            "Requirement already satisfied: packaging in /usr/local/lib/python3.10/dist-packages (from optimum) (24.0)\n",
            "Requirement already satisfied: numpy in /usr/local/lib/python3.10/dist-packages (from optimum) (1.25.2)\n",
            "Requirement already satisfied: huggingface-hub>=0.8.0 in /usr/local/lib/python3.10/dist-packages (from optimum) (0.22.2)\n",
            "Requirement already satisfied: datasets in /usr/local/lib/python3.10/dist-packages (from optimum) (2.19.0)\n",
            "Requirement already satisfied: accelerate>=0.26.0 in /usr/local/lib/python3.10/dist-packages (from auto-gptq) (0.29.3)\n",
            "Requirement already satisfied: sentencepiece in /usr/local/lib/python3.10/dist-packages (from auto-gptq) (0.1.99)\n",
            "Requirement already satisfied: rouge in /usr/local/lib/python3.10/dist-packages (from auto-gptq) (1.0.1)\n",
            "Requirement already satisfied: gekko in /usr/local/lib/python3.10/dist-packages (from auto-gptq) (1.1.1)\n",
            "Requirement already satisfied: safetensors in /usr/local/lib/python3.10/dist-packages (from auto-gptq) (0.4.3)\n",
            "Requirement already satisfied: peft>=0.5.0 in /usr/local/lib/python3.10/dist-packages (from auto-gptq) (0.10.0)\n",
            "Requirement already satisfied: tqdm in /usr/local/lib/python3.10/dist-packages (from auto-gptq) (4.66.2)\n",
            "Requirement already satisfied: psutil in /usr/local/lib/python3.10/dist-packages (from accelerate>=0.26.0->auto-gptq) (5.9.5)\n",
            "Requirement already satisfied: pyyaml in /usr/local/lib/python3.10/dist-packages (from accelerate>=0.26.0->auto-gptq) (6.0.1)\n",
            "Requirement already satisfied: filelock in /usr/local/lib/python3.10/dist-packages (from huggingface-hub>=0.8.0->optimum) (3.13.4)\n",
            "Requirement already satisfied: fsspec>=2023.5.0 in /usr/local/lib/python3.10/dist-packages (from huggingface-hub>=0.8.0->optimum) (2023.6.0)\n",
            "Requirement already satisfied: typing-extensions>=3.7.4.3 in /usr/local/lib/python3.10/dist-packages (from huggingface-hub>=0.8.0->optimum) (4.11.0)\n",
            "Requirement already satisfied: charset-normalizer<4,>=2 in /usr/local/lib/python3.10/dist-packages (from requests>=2.26.0->tiktoken) (3.3.2)\n",
            "Requirement already satisfied: idna<4,>=2.5 in /usr/local/lib/python3.10/dist-packages (from requests>=2.26.0->tiktoken) (3.7)\n",
            "Requirement already satisfied: urllib3<3,>=1.21.1 in /usr/local/lib/python3.10/dist-packages (from requests>=2.26.0->tiktoken) (2.0.7)\n",
            "Requirement already satisfied: certifi>=2017.4.17 in /usr/local/lib/python3.10/dist-packages (from requests>=2.26.0->tiktoken) (2024.2.2)\n",
            "Requirement already satisfied: networkx in /usr/local/lib/python3.10/dist-packages (from torch>=1.11->optimum) (3.3)\n",
            "Requirement already satisfied: jinja2 in /usr/local/lib/python3.10/dist-packages (from torch>=1.11->optimum) (3.1.3)\n",
            "Requirement already satisfied: nvidia-cuda-nvrtc-cu12==12.1.105 in /usr/local/lib/python3.10/dist-packages (from torch>=1.11->optimum) (12.1.105)\n",
            "Requirement already satisfied: nvidia-cuda-runtime-cu12==12.1.105 in /usr/local/lib/python3.10/dist-packages (from torch>=1.11->optimum) (12.1.105)\n",
            "Requirement already satisfied: nvidia-cuda-cupti-cu12==12.1.105 in /usr/local/lib/python3.10/dist-packages (from torch>=1.11->optimum) (12.1.105)\n",
            "Requirement already satisfied: nvidia-cudnn-cu12==8.9.2.26 in /usr/local/lib/python3.10/dist-packages (from torch>=1.11->optimum) (8.9.2.26)\n",
            "Requirement already satisfied: nvidia-cublas-cu12==12.1.3.1 in /usr/local/lib/python3.10/dist-packages (from torch>=1.11->optimum) (12.1.3.1)\n",
            "Requirement already satisfied: nvidia-cufft-cu12==11.0.2.54 in /usr/local/lib/python3.10/dist-packages (from torch>=1.11->optimum) (11.0.2.54)\n",
            "Requirement already satisfied: nvidia-curand-cu12==10.3.2.106 in /usr/local/lib/python3.10/dist-packages (from torch>=1.11->optimum) (10.3.2.106)\n",
            "Requirement already satisfied: nvidia-cusolver-cu12==11.4.5.107 in /usr/local/lib/python3.10/dist-packages (from torch>=1.11->optimum) (11.4.5.107)\n",
            "Requirement already satisfied: nvidia-cusparse-cu12==12.1.0.106 in /usr/local/lib/python3.10/dist-packages (from torch>=1.11->optimum) (12.1.0.106)\n",
            "Requirement already satisfied: nvidia-nccl-cu12==2.19.3 in /usr/local/lib/python3.10/dist-packages (from torch>=1.11->optimum) (2.19.3)\n",
            "Requirement already satisfied: nvidia-nvtx-cu12==12.1.105 in /usr/local/lib/python3.10/dist-packages (from torch>=1.11->optimum) (12.1.105)\n",
            "Requirement already satisfied: triton==2.2.0 in /usr/local/lib/python3.10/dist-packages (from torch>=1.11->optimum) (2.2.0)\n",
            "Requirement already satisfied: nvidia-nvjitlink-cu12 in /usr/local/lib/python3.10/dist-packages (from nvidia-cusolver-cu12==11.4.5.107->torch>=1.11->optimum) (12.4.127)\n",
            "Requirement already satisfied: tokenizers<0.20,>=0.19 in /usr/local/lib/python3.10/dist-packages (from transformers>=4.26.1->transformers_stream_generator) (0.19.1)\n",
            "Requirement already satisfied: protobuf in /usr/local/lib/python3.10/dist-packages (from transformers>=4.26.1->transformers_stream_generator) (3.20.3)\n",
            "Requirement already satisfied: humanfriendly>=9.1 in /usr/local/lib/python3.10/dist-packages (from coloredlogs->optimum) (10.0)\n",
            "Requirement already satisfied: pyarrow>=12.0.0 in /usr/local/lib/python3.10/dist-packages (from datasets->optimum) (14.0.2)\n",
            "Requirement already satisfied: pyarrow-hotfix in /usr/local/lib/python3.10/dist-packages (from datasets->optimum) (0.6)\n",
            "Requirement already satisfied: dill<0.3.9,>=0.3.0 in /usr/local/lib/python3.10/dist-packages (from datasets->optimum) (0.3.8)\n",
            "Requirement already satisfied: pandas in /usr/local/lib/python3.10/dist-packages (from datasets->optimum) (2.0.3)\n",
            "Requirement already satisfied: xxhash in /usr/local/lib/python3.10/dist-packages (from datasets->optimum) (3.4.1)\n",
            "Requirement already satisfied: multiprocess in /usr/local/lib/python3.10/dist-packages (from datasets->optimum) (0.70.16)\n",
            "Requirement already satisfied: aiohttp in /usr/local/lib/python3.10/dist-packages (from datasets->optimum) (3.9.5)\n",
            "Requirement already satisfied: six in /usr/local/lib/python3.10/dist-packages (from rouge->auto-gptq) (1.16.0)\n",
            "Requirement already satisfied: mpmath>=0.19 in /usr/local/lib/python3.10/dist-packages (from sympy->optimum) (1.3.0)\n",
            "Requirement already satisfied: aiosignal>=1.1.2 in /usr/local/lib/python3.10/dist-packages (from aiohttp->datasets->optimum) (1.3.1)\n",
            "Requirement already satisfied: attrs>=17.3.0 in /usr/local/lib/python3.10/dist-packages (from aiohttp->datasets->optimum) (23.2.0)\n",
            "Requirement already satisfied: frozenlist>=1.1.1 in /usr/local/lib/python3.10/dist-packages (from aiohttp->datasets->optimum) (1.4.1)\n",
            "Requirement already satisfied: multidict<7.0,>=4.5 in /usr/local/lib/python3.10/dist-packages (from aiohttp->datasets->optimum) (6.0.5)\n",
            "Requirement already satisfied: yarl<2.0,>=1.0 in /usr/local/lib/python3.10/dist-packages (from aiohttp->datasets->optimum) (1.9.4)\n",
            "Requirement already satisfied: async-timeout<5.0,>=4.0 in /usr/local/lib/python3.10/dist-packages (from aiohttp->datasets->optimum) (4.0.3)\n",
            "Requirement already satisfied: MarkupSafe>=2.0 in /usr/local/lib/python3.10/dist-packages (from jinja2->torch>=1.11->optimum) (2.1.5)\n",
            "Requirement already satisfied: python-dateutil>=2.8.2 in /usr/local/lib/python3.10/dist-packages (from pandas->datasets->optimum) (2.8.2)\n",
            "Requirement already satisfied: pytz>=2020.1 in /usr/local/lib/python3.10/dist-packages (from pandas->datasets->optimum) (2023.4)\n",
            "Requirement already satisfied: tzdata>=2022.1 in /usr/local/lib/python3.10/dist-packages (from pandas->datasets->optimum) (2024.1)\n"
          ]
        },
        {
          "data": {
            "application/vnd.jupyter.widget-view+json": {
              "model_id": "fa751b38203e431b8142a790e7e43bd2",
              "version_major": 2,
              "version_minor": 0
            },
            "text/plain": [
              "Loading checkpoint shards:   0%|          | 0/2 [00:00<?, ?it/s]"
            ]
          },
          "metadata": {},
          "output_type": "display_data"
        }
      ],
      "source": [
        "from transformers import AutoModelForCausalLM, AutoTokenizer\n",
        "from transformers.generation import GenerationConfig\n",
        "import warnings\n",
        "warnings.filterwarnings(\"ignore\")\n",
        "import textwrap\n",
        "import torch\n",
        "import time\n",
        "\n",
        "!pip install tiktoken\n",
        "!pip install tiktoken transformers_stream_generator einops optimum auto-gptq\n",
        "\n",
        "from transformers import pipeline\n",
        "\n",
        "tokenizer = AutoTokenizer.from_pretrained(\"Qwen/Qwen-1_8B-Chat\", trust_remote_code=True)\n",
        "pipe = pipeline(\"text-generation\", model=\"Qwen/Qwen-1_8B-Chat\", device_map=\"auto\", trust_remote_code=True)"
      ]
    },
    {
      "cell_type": "code",
      "execution_count": 4,
      "metadata": {
        "execution": {
          "iopub.execute_input": "2024-05-02T06:54:18.329838Z",
          "iopub.status.busy": "2024-05-02T06:54:18.329466Z",
          "iopub.status.idle": "2024-05-02T06:54:18.336578Z",
          "shell.execute_reply": "2024-05-02T06:54:18.335214Z",
          "shell.execute_reply.started": "2024-05-02T06:54:18.329807Z"
        },
        "id": "qffsI2cwF_Hn",
        "trusted": true
      },
      "outputs": [],
      "source": [
        "def get_completion(prompt):\n",
        "    messages = [{\n",
        "        \"role\": \"user\",\n",
        "        \"content\": prompt }]\n",
        "    prompt2 = pipe.tokenizer.apply_chat_template(messages, tokenize=False, add_generation_prompt=True)\n",
        "    outputs = pipe(prompt2, max_new_tokens=150, do_sample=True, temperature=0.7, top_k=50, top_p=0.95)\n",
        "    return outputs[0][\"generated_text\"]"
      ]
    },
    {
      "cell_type": "markdown",
      "metadata": {
        "id": "yCrnSKuGF_Ho"
      },
      "source": [
        "# Main Data"
      ]
    },
    {
      "cell_type": "code",
      "execution_count": 5,
      "metadata": {
        "colab": {
          "base_uri": "https://localhost:8080/"
        },
        "execution": {
          "iopub.execute_input": "2024-05-02T06:54:18.338712Z",
          "iopub.status.busy": "2024-05-02T06:54:18.338268Z"
        },
        "id": "uC-K6QNHF_Hp",
        "outputId": "e1e7aa28-24d9-49a0-9b65-3843710874be",
        "trusted": true
      },
      "outputs": [
        {
          "name": "stderr",
          "output_type": "stream",
          "text": [
            "\n",
            "No chat template is defined for this tokenizer - using a default chat template that implements the ChatML format (without BOS/EOS tokens!). If the default is not appropriate for your model, please set `tokenizer.chat_template` to an appropriate template. See https://huggingface.co/docs/transformers/main/chat_templating for more information.\n",
            "\n"
          ]
        },
        {
          "name": "stdout",
          "output_type": "stream",
          "text": [
            "<|im_start|>user\n",
            "\n",
            "Based on the detailed information below, please provide a comprehensive answer to the customer's query:\n",
            "\n",
            "If the item received is damaged, defective, incorrect, or incomplete, a refund will be issued based on Daraz's assessment. Note: For device-related issues after usage or expiration of return policy period, please check if the item is covered under Seller or Brand Warranty. Items that are non-returnable: Any custom-made items\" What is the cancellation and return policy for Buy More, Save More orders? Partial cancellations are not allowed but partial returns are allowed on Buy More, Save More orders i. e. you will not be able to cancel 1 or 2 products in your order and would instead have to cancel the entire order. But if you decide to apply for a return, you can return certain items out of your total Buy More, Save More order. If a certain number of products from a Buy More, Save More order are eligible for a return, partial refund will be issued to the customer after these items have been returned by the customer & quality checked by Daraz. Partial refunds are calculated on item level of each bundle. In case you have received your order but are not satisfied with your purchase, you can submit a return request within 14 days from the day it is delivered to you. Decision on returns and refunds taken by Daraz will be final in its sole discretion. In case a customer tries to circumvent the terms and conditions and abuse subsidies by creating new accounts, they will be unable to place their order. \"\n",
            "\n",
            "Question: What are your refund policies?\n",
            "\n",
            "Your response should comprehensively integrate the information provided, accurately reflecting the key points and offering a clear, well-structured answer.\n",
            "<|im_end|>\n",
            "<|im_start|>assistant\n",
            "Thank you for your question. Daraz offers a flexible refund policy that allows customers to request a full or partial refund based on their assessment of the item received. The policy also includes provisions for partial cancellations and returns, as well as guidelines on what items may be eligible for a return.\n",
            "\n",
            "Regarding the refund policy for Buy More, Save More orders, partial cancellations are not allowed. However, partial refunds are available on certain items where a certain number of products from the order meet the criteria for a return. Partial refunds are calculated on an item-level basis, meaning that only a certain percentage of the total cost of the order will be refunded. In most cases, partial refunds will be issued to the customer after the items have been returned by the customer\n",
            "Time taken:  161.6787304878235\n"
          ]
        }
      ],
      "source": [
        "# Define the question\n",
        "question = \"What are your refund policies?\"\n",
        "\n",
        "# Read the content from the output file\n",
        "with open('/content/drive/MyDrive/Colab Notebooks/outputMain.txt', 'r') as file:\n",
        "    content = file.read().strip()\n",
        "\n",
        "# Construct the prompt to pass to the LLM\n",
        "prompt = f\"\"\"\n",
        "Based on the detailed information below, please provide a comprehensive answer to the customer's query:\n",
        "\n",
        "{content}\n",
        "\n",
        "Question: {question}\n",
        "\n",
        "Your response should comprehensively integrate the information provided, accurately reflecting the key points and offering a clear, well-structured answer.\n",
        "\"\"\"\n",
        "\n",
        "# Generate the response using the LLM\n",
        "start_time = time.time()\n",
        "response = get_completion(prompt)\n",
        "end_time = time.time()\n",
        "print(response)\n",
        "print(\"Time taken: \", end_time - start_time)"
      ]
    },
    {
      "cell_type": "markdown",
      "metadata": {
        "id": "_6Iyej9lF_Hp"
      },
      "source": [
        "# Seller Data"
      ]
    },
    {
      "cell_type": "code",
      "execution_count": 6,
      "metadata": {
        "colab": {
          "base_uri": "https://localhost:8080/"
        },
        "id": "k83SlCnlF_Hp",
        "outputId": "34a9a70c-bd61-4201-c21d-4db4c4285a43",
        "trusted": true
      },
      "outputs": [
        {
          "name": "stdout",
          "output_type": "stream",
          "text": [
            "<|im_start|>user\n",
            "\n",
            "Based on the detailed information below, please provide a comprehensive answer to the customer's query:\n",
            "\n",
            "You must deactivate one bundle feature for that SKU in order to reactivate another. Bundles: Buy 1 Get 1 Free A common form of sales promotion also known as two for one whilst the cost per item is proportionately cheaper than if bought on its own, it is not actually half price. Bundles: Combo A promotion where different products are sold together as a set with one or more items at discounted prices Products with high views and sales mix with less popular products. Minimum 5 customs products should be there if a seller is selling only custom made products What are the Benefits of Product Customization? Match Customer Demand Increase sales and competitive edge Customer engagement Build brand loyalty Gain market research\" Why should I create bundles? Sellers can create bundles to differentiate their deals from competitors, especially in high-priced competitive categories It's a great opportunity to sell low-cost items as part of a bundle Bundles allow sellers to clear their inventory of whatever products they choose Additionally, bundles are a foolproof way to attract customers and increase conversion rate, sales and enhance overall performance. Sellers sell a package or set of goods for a lower price than they would charge if the customer bought all of them seperately. Minimum 5 customs products should be there if a seller is selling only custom made products What are the Benefits of Product Customization? Match Customer Demand Increase sales and competitive edge Customer engagement Build brand loyalty Gain market research\" What are the types of Product Bundling? Minimum 5 customs products should be there if a seller is selling only custom made products What are the Benefits of Product Customization?\n",
            "\n",
            "Question: Can I make product bundles on Daraz?\n",
            "\n",
            "Your response should comprehensively integrate the information provided, accurately reflecting the key points and offering a clear, well-structured answer.\n",
            "<|im_end|>\n",
            "<|im_start|>assistant\n",
            "Yes, you can create product bundles on Daraz. In fact, Daraz is an e-commerce platform that offers various product bundling options to help sellers increase sales and compete in the high-priced competitive category. To create a bundle on Daraz, you will need to meet certain minimum requirements such as having at least 5 custom-made products and being selling only custom-made products.\n",
            "\n",
            "Product bundling offers several benefits to sellers, including:\n",
            "\n",
            "1. Differentiating your deals from competitors: By creating bundles that offer a discount compared to buying each item separately, you can differentiate your deals from competitors and attract customers who may be looking for a better deal.\n",
            "\n",
            "2. Increasing sales: Bundle deals can help you increase sales by encouraging customers to purchase multiple items instead of\n",
            "Time taken:  153.29610395431519\n"
          ]
        }
      ],
      "source": [
        "# Define the question\n",
        "question = \"Can I make product bundles on Daraz?\"\n",
        "\n",
        "# Read the content from the output file\n",
        "with open('/content/drive/MyDrive/Colab Notebooks/outputSeller.txt', 'r') as file:\n",
        "    content = file.read().strip()\n",
        "\n",
        "# Construct the prompt to pass to the LLM\n",
        "prompt = f\"\"\"\n",
        "Based on the detailed information below, please provide a comprehensive answer to the customer's query:\n",
        "\n",
        "{content}\n",
        "\n",
        "Question: {question}\n",
        "\n",
        "Your response should comprehensively integrate the information provided, accurately reflecting the key points and offering a clear, well-structured answer.\n",
        "\"\"\"\n",
        "\n",
        "# Generate the response using the LLM\n",
        "start_time = time.time()\n",
        "response = get_completion(prompt)\n",
        "end_time = time.time()\n",
        "print(response)\n",
        "print(\"Time taken: \", end_time - start_time)"
      ]
    },
    {
      "cell_type": "markdown",
      "metadata": {
        "id": "RI7g1_VXF_Hq"
      },
      "source": [
        "# Product Data"
      ]
    },
    {
      "cell_type": "code",
      "execution_count": 8,
      "metadata": {
        "colab": {
          "base_uri": "https://localhost:8080/"
        },
        "id": "JJRKrlVfF_Hq",
        "outputId": "f1270c04-db5e-4fb9-efc2-e943d1229c60",
        "trusted": true
      },
      "outputs": [
        {
          "name": "stdout",
          "output_type": "stream",
          "text": [
            "<|im_start|>user\n",
            "\n",
            "Customer Question: Can you list watches between Rs. 1000 and Rs. 2000?\n",
            "Product List:\n",
            "\n",
            "Product 04: Product Name = Men Quartz Watch for Waterproof Vacuum Plating Strap with Car Wheel Rim Hub Design Sport Automatic Wristwatch (Does not rotate), Product Category = Watches Sunglasses Jewellery/Watches/Men/Fashion, Brand Name = No Brand, Seller Name = D&K Online, URL = https://www.daraz.pk/products/-i411043073-s1964553711.html?search=1, Price Details = Original: Rs. 3999, Discounted: Rs. 1768 | Original: Rs. 3999, Discounted: Rs. 1869 | Original: Rs. 3999, Discounted: Rs. 1769 | Original: Rs. 3999, Discounted: Rs. 1768 | Original: Rs. 3999, Discounted: Rs. 1868, Positive Seller Ratings = 82%, Ship on Time = 100%, Return Policy = 14 days free & easy return (Change of mind is not applicable)\n",
            "Product 10: Product Name = 2022 trend full-automatic quartz movement men's watch wheel non mechanical watch wrist watch fashion men's watch, Product Category = Watches Sunglasses Jewellery/Watches/Men/Fashion, Brand Name = No Brand, Seller Name = lamgool Electronic, URL = https://www.daraz.pk/products/2022-i366103747-s1819200832.html?search=1, Price Details = Original: Rs. 1836, Discounted: Rs. 1410, Positive Seller Ratings = 81%, Ship on Time = 100%, Return Policy = 14 days free & easy return (Change of mind is not applicable)\n",
            "Product 17: Product Name = Qiunery YESURPRISE Unisex Antique Case Vintage Brass Rib Chain Quartz Pocket Watch Train, Product Category = Watches Sunglasses Jewellery/Watches/Men/Fashion, Brand Name = No Brand, Seller Name = Qiunery, URL = https://www.daraz.pk/products/qiunery-yesur-i202992571-s1402460810.html?search=1, Price Details = Original: Rs. 1790, Discounted: Rs. 1250, Positive Seller Ratings = 82%, Ship on Time = 100%, Return Policy = 14 days free & easy return (Change of mind is not applicable)\n",
            "\n",
            "Based on the above product list, please provide a helpful and engaging answer that encourages the customer to consider the options and possibly make a purchase. Highlight the key features and benefits of the products listed.\n",
            "<|im_end|>\n",
            "<|im_start|>assistant\n",
            "Hello! Thank you for your interest in our watches. We have some great options available that should suit your needs and budget.\n",
            "\n",
            "For those looking for a more affordable option, we recommend the Men Quartz Watch for Waterproof Vacuum Plating strap with Car Wheel Rim Hub Design Sport Automatic Wristwatch. It has a sporty design and automatic movement, making it perfect for everyday wear or as a gift for a friend. The price is $1768, but there are also discounts available for customers who purchase before a certain date.\n",
            "\n",
            "If you're interested in a luxury experience, we suggest the 2022 trend full-automatic quartz movement men's watch. This watch comes with an antique case and vintage brass rib chain, providing a unique and stylish\n",
            "Time taken:  182.77021598815918\n"
          ]
        }
      ],
      "source": [
        "# Define the question\n",
        "question = \"Can you list watches between Rs. 1000 and Rs. 2000?\"\n",
        "\n",
        "# Read the content from the output file\n",
        "with open('/content/drive/MyDrive/Colab Notebooks/outputProducts.txt', 'r') as file:\n",
        "    content = file.read().strip()\n",
        "\n",
        "# Construct the prompt to pass to the LLM\n",
        "prompt = f\"\"\"\n",
        "Customer Question: {question}\n",
        "Product List:\n",
        "\n",
        "{content}\n",
        "\n",
        "Based on the above product list, please provide a helpful and engaging answer that encourages the customer to consider the options and possibly make a purchase. Highlight the key features and benefits of the products listed.\n",
        "\"\"\"\n",
        "\n",
        "# Generate the response using the LLM\n",
        "start_time = time.time()\n",
        "response = get_completion(prompt)\n",
        "end_time = time.time()\n",
        "print(response)\n",
        "print(\"Time taken: \", end_time - start_time)"
      ]
    }
  ],
  "metadata": {
    "colab": {
      "provenance": []
    },
    "kaggle": {
      "accelerator": "none",
      "dataSources": [
        {
          "databundleVersionId": 8408882,
          "datasetId": 4886548,
          "sourceId": 8279510,
          "sourceType": "datasetVersion"
        }
      ],
      "dockerImageVersionId": 30698,
      "isGpuEnabled": false,
      "isInternetEnabled": true,
      "language": "python",
      "sourceType": "notebook"
    },
    "kernelspec": {
      "display_name": "Python 3",
      "language": "python",
      "name": "python3"
    },
    "language_info": {
      "codemirror_mode": {
        "name": "ipython",
        "version": 3
      },
      "file_extension": ".py",
      "mimetype": "text/x-python",
      "name": "python",
      "nbconvert_exporter": "python",
      "pygments_lexer": "ipython3",
      "version": "3.11.4"
    },
    "widgets": {
      "application/vnd.jupyter.widget-state+json": {
        "08b9125f45f14701b31750bdaee65b39": {
          "model_module": "@jupyter-widgets/base",
          "model_module_version": "1.2.0",
          "model_name": "LayoutModel",
          "state": {
            "_model_module": "@jupyter-widgets/base",
            "_model_module_version": "1.2.0",
            "_model_name": "LayoutModel",
            "_view_count": null,
            "_view_module": "@jupyter-widgets/base",
            "_view_module_version": "1.2.0",
            "_view_name": "LayoutView",
            "align_content": null,
            "align_items": null,
            "align_self": null,
            "border": null,
            "bottom": null,
            "display": null,
            "flex": null,
            "flex_flow": null,
            "grid_area": null,
            "grid_auto_columns": null,
            "grid_auto_flow": null,
            "grid_auto_rows": null,
            "grid_column": null,
            "grid_gap": null,
            "grid_row": null,
            "grid_template_areas": null,
            "grid_template_columns": null,
            "grid_template_rows": null,
            "height": null,
            "justify_content": null,
            "justify_items": null,
            "left": null,
            "margin": null,
            "max_height": null,
            "max_width": null,
            "min_height": null,
            "min_width": null,
            "object_fit": null,
            "object_position": null,
            "order": null,
            "overflow": null,
            "overflow_x": null,
            "overflow_y": null,
            "padding": null,
            "right": null,
            "top": null,
            "visibility": null,
            "width": null
          }
        },
        "0955f29e3b384cda83295067acfaa09d": {
          "model_module": "@jupyter-widgets/base",
          "model_module_version": "1.2.0",
          "model_name": "LayoutModel",
          "state": {
            "_model_module": "@jupyter-widgets/base",
            "_model_module_version": "1.2.0",
            "_model_name": "LayoutModel",
            "_view_count": null,
            "_view_module": "@jupyter-widgets/base",
            "_view_module_version": "1.2.0",
            "_view_name": "LayoutView",
            "align_content": null,
            "align_items": null,
            "align_self": null,
            "border": null,
            "bottom": null,
            "display": null,
            "flex": null,
            "flex_flow": null,
            "grid_area": null,
            "grid_auto_columns": null,
            "grid_auto_flow": null,
            "grid_auto_rows": null,
            "grid_column": null,
            "grid_gap": null,
            "grid_row": null,
            "grid_template_areas": null,
            "grid_template_columns": null,
            "grid_template_rows": null,
            "height": null,
            "justify_content": null,
            "justify_items": null,
            "left": null,
            "margin": null,
            "max_height": null,
            "max_width": null,
            "min_height": null,
            "min_width": null,
            "object_fit": null,
            "object_position": null,
            "order": null,
            "overflow": null,
            "overflow_x": null,
            "overflow_y": null,
            "padding": null,
            "right": null,
            "top": null,
            "visibility": null,
            "width": null
          }
        },
        "1ed635e62c284a3cb5d9cb76d8a109d2": {
          "model_module": "@jupyter-widgets/controls",
          "model_module_version": "1.5.0",
          "model_name": "DescriptionStyleModel",
          "state": {
            "_model_module": "@jupyter-widgets/controls",
            "_model_module_version": "1.5.0",
            "_model_name": "DescriptionStyleModel",
            "_view_count": null,
            "_view_module": "@jupyter-widgets/base",
            "_view_module_version": "1.2.0",
            "_view_name": "StyleView",
            "description_width": ""
          }
        },
        "460dec0f7cb84210a6d00501e03b638e": {
          "model_module": "@jupyter-widgets/controls",
          "model_module_version": "1.5.0",
          "model_name": "HTMLModel",
          "state": {
            "_dom_classes": [],
            "_model_module": "@jupyter-widgets/controls",
            "_model_module_version": "1.5.0",
            "_model_name": "HTMLModel",
            "_view_count": null,
            "_view_module": "@jupyter-widgets/controls",
            "_view_module_version": "1.5.0",
            "_view_name": "HTMLView",
            "description": "",
            "description_tooltip": null,
            "layout": "IPY_MODEL_0955f29e3b384cda83295067acfaa09d",
            "placeholder": "​",
            "style": "IPY_MODEL_9836fb4a23a44c7290e898c5b4aa2480",
            "value": " 2/2 [00:20&lt;00:00,  9.85s/it]"
          }
        },
        "5c83641556c540868d08ab7ac076f30c": {
          "model_module": "@jupyter-widgets/base",
          "model_module_version": "1.2.0",
          "model_name": "LayoutModel",
          "state": {
            "_model_module": "@jupyter-widgets/base",
            "_model_module_version": "1.2.0",
            "_model_name": "LayoutModel",
            "_view_count": null,
            "_view_module": "@jupyter-widgets/base",
            "_view_module_version": "1.2.0",
            "_view_name": "LayoutView",
            "align_content": null,
            "align_items": null,
            "align_self": null,
            "border": null,
            "bottom": null,
            "display": null,
            "flex": null,
            "flex_flow": null,
            "grid_area": null,
            "grid_auto_columns": null,
            "grid_auto_flow": null,
            "grid_auto_rows": null,
            "grid_column": null,
            "grid_gap": null,
            "grid_row": null,
            "grid_template_areas": null,
            "grid_template_columns": null,
            "grid_template_rows": null,
            "height": null,
            "justify_content": null,
            "justify_items": null,
            "left": null,
            "margin": null,
            "max_height": null,
            "max_width": null,
            "min_height": null,
            "min_width": null,
            "object_fit": null,
            "object_position": null,
            "order": null,
            "overflow": null,
            "overflow_x": null,
            "overflow_y": null,
            "padding": null,
            "right": null,
            "top": null,
            "visibility": null,
            "width": null
          }
        },
        "9836fb4a23a44c7290e898c5b4aa2480": {
          "model_module": "@jupyter-widgets/controls",
          "model_module_version": "1.5.0",
          "model_name": "DescriptionStyleModel",
          "state": {
            "_model_module": "@jupyter-widgets/controls",
            "_model_module_version": "1.5.0",
            "_model_name": "DescriptionStyleModel",
            "_view_count": null,
            "_view_module": "@jupyter-widgets/base",
            "_view_module_version": "1.2.0",
            "_view_name": "StyleView",
            "description_width": ""
          }
        },
        "b06ea6f613aa48bb8747b50e62ac2a68": {
          "model_module": "@jupyter-widgets/controls",
          "model_module_version": "1.5.0",
          "model_name": "ProgressStyleModel",
          "state": {
            "_model_module": "@jupyter-widgets/controls",
            "_model_module_version": "1.5.0",
            "_model_name": "ProgressStyleModel",
            "_view_count": null,
            "_view_module": "@jupyter-widgets/base",
            "_view_module_version": "1.2.0",
            "_view_name": "StyleView",
            "bar_color": null,
            "description_width": ""
          }
        },
        "b7c9382bf3194f8b99894619253080fd": {
          "model_module": "@jupyter-widgets/controls",
          "model_module_version": "1.5.0",
          "model_name": "FloatProgressModel",
          "state": {
            "_dom_classes": [],
            "_model_module": "@jupyter-widgets/controls",
            "_model_module_version": "1.5.0",
            "_model_name": "FloatProgressModel",
            "_view_count": null,
            "_view_module": "@jupyter-widgets/controls",
            "_view_module_version": "1.5.0",
            "_view_name": "ProgressView",
            "bar_style": "success",
            "description": "",
            "description_tooltip": null,
            "layout": "IPY_MODEL_dbbf759698b041d3ba692d961f0d8772",
            "max": 2,
            "min": 0,
            "orientation": "horizontal",
            "style": "IPY_MODEL_b06ea6f613aa48bb8747b50e62ac2a68",
            "value": 2
          }
        },
        "c988c697f01648f096880a75932641ba": {
          "model_module": "@jupyter-widgets/controls",
          "model_module_version": "1.5.0",
          "model_name": "HTMLModel",
          "state": {
            "_dom_classes": [],
            "_model_module": "@jupyter-widgets/controls",
            "_model_module_version": "1.5.0",
            "_model_name": "HTMLModel",
            "_view_count": null,
            "_view_module": "@jupyter-widgets/controls",
            "_view_module_version": "1.5.0",
            "_view_name": "HTMLView",
            "description": "",
            "description_tooltip": null,
            "layout": "IPY_MODEL_5c83641556c540868d08ab7ac076f30c",
            "placeholder": "​",
            "style": "IPY_MODEL_1ed635e62c284a3cb5d9cb76d8a109d2",
            "value": "Loading checkpoint shards: 100%"
          }
        },
        "dbbf759698b041d3ba692d961f0d8772": {
          "model_module": "@jupyter-widgets/base",
          "model_module_version": "1.2.0",
          "model_name": "LayoutModel",
          "state": {
            "_model_module": "@jupyter-widgets/base",
            "_model_module_version": "1.2.0",
            "_model_name": "LayoutModel",
            "_view_count": null,
            "_view_module": "@jupyter-widgets/base",
            "_view_module_version": "1.2.0",
            "_view_name": "LayoutView",
            "align_content": null,
            "align_items": null,
            "align_self": null,
            "border": null,
            "bottom": null,
            "display": null,
            "flex": null,
            "flex_flow": null,
            "grid_area": null,
            "grid_auto_columns": null,
            "grid_auto_flow": null,
            "grid_auto_rows": null,
            "grid_column": null,
            "grid_gap": null,
            "grid_row": null,
            "grid_template_areas": null,
            "grid_template_columns": null,
            "grid_template_rows": null,
            "height": null,
            "justify_content": null,
            "justify_items": null,
            "left": null,
            "margin": null,
            "max_height": null,
            "max_width": null,
            "min_height": null,
            "min_width": null,
            "object_fit": null,
            "object_position": null,
            "order": null,
            "overflow": null,
            "overflow_x": null,
            "overflow_y": null,
            "padding": null,
            "right": null,
            "top": null,
            "visibility": null,
            "width": null
          }
        },
        "fa751b38203e431b8142a790e7e43bd2": {
          "model_module": "@jupyter-widgets/controls",
          "model_module_version": "1.5.0",
          "model_name": "HBoxModel",
          "state": {
            "_dom_classes": [],
            "_model_module": "@jupyter-widgets/controls",
            "_model_module_version": "1.5.0",
            "_model_name": "HBoxModel",
            "_view_count": null,
            "_view_module": "@jupyter-widgets/controls",
            "_view_module_version": "1.5.0",
            "_view_name": "HBoxView",
            "box_style": "",
            "children": [
              "IPY_MODEL_c988c697f01648f096880a75932641ba",
              "IPY_MODEL_b7c9382bf3194f8b99894619253080fd",
              "IPY_MODEL_460dec0f7cb84210a6d00501e03b638e"
            ],
            "layout": "IPY_MODEL_08b9125f45f14701b31750bdaee65b39"
          }
        }
      }
    }
  },
  "nbformat": 4,
  "nbformat_minor": 0
}
