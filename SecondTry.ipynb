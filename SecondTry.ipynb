{
 "cells": [
  {
   "cell_type": "markdown",
   "metadata": {},
   "source": [
    "# Using Sentence Embedding"
   ]
  },
  {
   "cell_type": "code",
   "execution_count": 15,
   "metadata": {},
   "outputs": [],
   "source": [
    "# %%\n",
    "from sentence_transformers import SentenceTransformer, util\n",
    "import numpy as np\n",
    "import torch\n",
    "\n",
    "# %%\n",
    "# Load the data from the text file\n",
    "with open('FinalProductsList.txt', 'r', encoding=\"utf8\") as f:\n",
    "    products = f.readlines()\n",
    "\n",
    "# %%\n",
    "# Initialize the sentence transformer model for generating embeddings\n",
    "model = SentenceTransformer('all-MiniLM-L6-v2')\n",
    "\n",
    "# Generate embeddings for each product\n",
    "product_embeddings = model.encode(products, convert_to_tensor=True)"
   ]
  },
  {
   "cell_type": "code",
   "execution_count": 16,
   "metadata": {},
   "outputs": [
    {
     "name": "stdout",
     "output_type": "stream",
     "text": [
      "Query: Show me watches under Rs. 500\n",
      "\n",
      "Score: 0.5022721290588379\n",
      "Product Details: Product 15: Product Name = BUISNESS WATCH CLASSIC LUXURY ROUND DILE STEEL STRAPS WITH SILVER HAND|WRIST BRACELT CHAIN FOR BOYS MENS, Product Category = Watches Sunglasses Jewellery/Watches/Men/Business, Brand Name = No Brand, Seller Name = Finds Shop, URL = https://www.daraz.pk/products/-i438130449-s2118958341.html?search=1, Price Details = Original: Rs. 999, Discounted: Rs. 457 | Original: Rs. 999, Discounted: Rs. 529, Positive Seller Ratings = 82%, Ship on Time = 95%, Return Policy = 14 days free & easy return (Change of mind is not applicable)\n",
      "\n",
      "\n",
      "Score: 0.4969567060470581\n",
      "Product Details: Product 03: Product Name = Sports Digtal Fashion Watch Women Men Square LED Watch Silicone Electronic Watch Women's Watches Clock, Product Category = Watches Sunglasses Jewellery/Watches/Men/Sports, Brand Name = No Brand, Seller Name = Modern watch company, URL = https://www.daraz.pk/products/led-i431801201-s2265468211.html?search=1, Price Details = Original: Rs. 899, Discounted: Rs. 300 | Original: Rs. 650, Discounted: Rs. 199, Positive Seller Ratings = 79%, Ship on Time = 97%, Return Policy = 14 days free & easy return (Change of mind is not applicable)\n",
      "\n"
     ]
    }
   ],
   "source": [
    "# %%\n",
    "# Define a function to search for similar products\n",
    "def search_products(query, k):\n",
    "    query_embedding = model.encode(query, convert_to_tensor=True)\n",
    "    cosine_scores = util.pytorch_cos_sim(query_embedding, product_embeddings)[0]\n",
    "    top_results = torch.topk(cosine_scores, k=k)\n",
    "\n",
    "    print(\"Query:\", query)\n",
    "    for score, idx in zip(top_results[0], top_results[1]):\n",
    "        print(\"\\nScore:\", score.item())\n",
    "        print(\"Product Details:\", products[idx])\n",
    "\n",
    "# %%\n",
    "# Example query\n",
    "search_query = \"Show me watches under Rs. 500\"\n",
    "search_products(search_query, 2)"
   ]
  },
  {
   "cell_type": "markdown",
   "metadata": {},
   "source": [
    "# Using VectorDB"
   ]
  },
  {
   "cell_type": "code",
   "execution_count": 17,
   "metadata": {},
   "outputs": [],
   "source": [
    "from gensim.models.doc2vec import Doc2Vec, TaggedDocument\n",
    "from langchain.document_loaders import TextLoader\n",
    "from langchain.text_splitter import CharacterTextSplitter\n",
    "from langchain.embeddings.openai import OpenAIEmbeddings\n",
    "from langchain.vectorstores import Chroma\n",
    "from sentence_transformers import SentenceTransformer\n",
    "from langchain.embeddings import GPT4AllEmbeddings"
   ]
  },
  {
   "cell_type": "code",
   "execution_count": 18,
   "metadata": {},
   "outputs": [],
   "source": [
    "query = \"Show me watches under Rs. 200\""
   ]
  },
  {
   "cell_type": "code",
   "execution_count": 19,
   "metadata": {},
   "outputs": [],
   "source": [
    "text_splitter = CharacterTextSplitter(separator=\"\\n\", chunk_size=650, chunk_overlap=0)"
   ]
  },
  {
   "cell_type": "code",
   "execution_count": 20,
   "metadata": {},
   "outputs": [
    {
     "name": "stderr",
     "output_type": "stream",
     "text": [
      "Created a chunk of size 675, which is longer than the specified 650\n",
      "Created a chunk of size 708, which is longer than the specified 650\n",
      "Created a chunk of size 715, which is longer than the specified 650\n",
      "Created a chunk of size 697, which is longer than the specified 650\n",
      "Created a chunk of size 751, which is longer than the specified 650\n"
     ]
    }
   ],
   "source": [
    "loader = TextLoader(\"FinalProductsList.txt\")\n",
    "docs = loader.load()\n",
    "splits = text_splitter.split_documents(docs)"
   ]
  },
  {
   "cell_type": "code",
   "execution_count": 21,
   "metadata": {},
   "outputs": [],
   "source": [
    "persist_directory = 'chroma/ProductsSearch'\n",
    "vectordb = Chroma.from_documents(\n",
    "    documents=splits,\n",
    "    embedding=GPT4AllEmbeddings(),\n",
    "    persist_directory=persist_directory\n",
    ")\n",
    "vectordb.persist()"
   ]
  },
  {
   "cell_type": "code",
   "execution_count": 22,
   "metadata": {},
   "outputs": [
    {
     "name": "stdout",
     "output_type": "stream",
     "text": [
      "\n",
      "\n",
      "0.9470004697188122\n",
      "Product 03: Product Name = Sports Digtal Fashion Watch Women Men Square LED Watch Silicone Electronic Watch Women's Watches Clock, Product Category = Watches Sunglasses Jewellery/Watches/Men/Sports, Brand Name = No Brand, Seller Name = Modern watch company, URL = https://www.daraz.pk/products/led-i431801201-s2265468211.html?search=1, Price Details = Original: Rs. 899, Discounted: Rs. 300 | Original: Rs. 650, Discounted: Rs. 199, Positive Seller Ratings = 79%, Ship on Time = 97%, Return Policy = 14 days free & easy return (Change of mind is not applicable)\n",
      "\n",
      "\n",
      "0.9470004697188122\n",
      "Product 03: Product Name = Sports Digtal Fashion Watch Women Men Square LED Watch Silicone Electronic Watch Women's Watches Clock, Product Category = Watches Sunglasses Jewellery/Watches/Men/Sports, Brand Name = No Brand, Seller Name = Modern watch company, URL = https://www.daraz.pk/products/led-i431801201-s2265468211.html?search=1, Price Details = Original: Rs. 899, Discounted: Rs. 300 | Original: Rs. 650, Discounted: Rs. 199, Positive Seller Ratings = 79%, Ship on Time = 97%, Return Policy = 14 days free & easy return (Change of mind is not applicable)\n"
     ]
    }
   ],
   "source": [
    "docs = vectordb.similarity_search_with_score(query, k=2)\n",
    "for result in docs:\n",
    "    print(\"\\n\")\n",
    "    print(result[1])\n",
    "    print(result[0].page_content)"
   ]
  },
  {
   "cell_type": "code",
   "execution_count": 23,
   "metadata": {},
   "outputs": [],
   "source": [
    "# with open(\"search_results.txt\", \"w\") as file:\n",
    "#     count = 1\n",
    "#     for result in docs:\n",
    "#         file.write(f\"response\" + str(count) + \" = \\\"\" + result[0].page_content + \"\\\"\\n\")  \n",
    "#         count+=1\n",
    "\n",
    "# with open(\"search_results.txt\", \"r\") as file:\n",
    "#     print(file.read())"
   ]
  },
  {
   "cell_type": "code",
   "execution_count": 24,
   "metadata": {},
   "outputs": [
    {
     "name": "stdout",
     "output_type": "stream",
     "text": [
      "response1 = \"Product 03: Product Name = Sports Digtal Fashion Watch Women Men Square LED Watch Silicone Electronic Watch Women's Watches Clock, Product Category = Watches Sunglasses Jewellery/Watches/Men/Sports, Brand Name = No Brand, Seller Name = Modern watch company, URL = https://www.daraz.pk/products/led-i431801201-s2265468211.html?search=1, Price Details = Original: Rs. 899, Discounted: Rs. 300 | Original: Rs. 650, Discounted: Rs. 199, Positive Seller Ratings = 79%, Ship on Time = 97%, Return Policy = 14 days free & easy return (Change of mind is not applicable)\"\n",
      "response2 = \"Product 03: Product Name = Sports Digtal Fashion Watch Women Men Square LED Watch Silicone Electronic Watch Women's Watches Clock, Product Category = Watches Sunglasses Jewellery/Watches/Men/Sports, Brand Name = No Brand, Seller Name = Modern watch company, URL = https://www.daraz.pk/products/led-i431801201-s2265468211.html?search=1, Price Details = Original: Rs. 899, Discounted: Rs. 300 | Original: Rs. 650, Discounted: Rs. 199, Positive Seller Ratings = 79%, Ship on Time = 97%, Return Policy = 14 days free & easy return (Change of mind is not applicable)\"\n"
     ]
    }
   ],
   "source": [
    "count = 1\n",
    "for result in docs:\n",
    "    print(f\"response\" + str(count) + \" = \\\"\" + result[0].page_content + \"\\\"\")  \n",
    "    count+=1"
   ]
  },
  {
   "cell_type": "code",
   "execution_count": 25,
   "metadata": {},
   "outputs": [],
   "source": [
    "# from transformers import AutoModelForCausalLM, AutoTokenizer\n",
    "# from transformers.generation import GenerationConfig\n",
    "# import warnings\n",
    "# warnings.filterwarnings(\"ignore\")\n",
    "# import textwrap\n",
    "\n",
    "# !pip install tiktoken\n",
    "# !pip install tiktoken transformers_stream_generator einops optimum auto-gptq\n",
    "# tokenizer = AutoTokenizer.from_pretrained(\"Qwen/Qwen-1_8B-Chat\", trust_remote_code=True)\n",
    "# from transformers import pipeline\n",
    "# pipe = pipeline(\"text-generation\", model=\"Qwen/Qwen-1_8B-Chat\", device_map=\"auto\", trust_remote_code=True)\n",
    "\n",
    "# response1 =\"Product 03: Product Name = Sports Digtal Fashion Watch Women Men Square LED Watch Silicone Electronic Watch Women's Watches Clock, Product Category = Watches Sunglasses Jewellery/Watches/Men/Sports, Brand Name = No Brand, Seller Name = Modern watch company, URL = https://www.daraz.pk/products/led-i431801201-s2265468211.html?search=1, Price Details = Original: Rs. 899, Discounted: Rs. 300 | Original: Rs. 650, Discounted: Rs. 199, Positive Seller Ratings = 79%, Ship on Time = 97%, Return Policy = 14 days free & easy return (Change of mind is not applicable)\"\n",
    "# response2 =\"Product 03: Product Name = Sports Digtal Fashion Watch Women Men Square LED Watch Silicone Electronic Watch Women's Watches Clock, Product Category = Watches Sunglasses Jewellery/Watches/Men/Sports, Brand Name = No Brand, Seller Name = Modern watch company, URL = https://www.daraz.pk/products/led-i431801201-s2265468211.html?search=1, Price Details = Original: Rs. 899, Discounted: Rs. 300 | Original: Rs. 650, Discounted: Rs. 199, Positive Seller Ratings = 79%, Ship on Time = 97%, Return Policy = 14 days free & easy return (Change of mind is not applicable)\"\n",
    "# response3 =\"Product 15: Product Name = BUISNESS WATCH CLASSIC LUXURY ROUND DILE STEEL STRAPS WITH SILVER HAND|WRIST BRACELT CHAIN FOR BOYS MENS, Product Category = Watches Sunglasses Jewellery/Watches/Men/Business, Brand Name = No Brand, Seller Name = Finds Shop, URL = https://www.daraz.pk/products/-i438130449-s2118958341.html?search=1, Price Details = Original: Rs. 999, Discounted: Rs. 457 | Original: Rs. 999, Discounted: Rs. 529, Positive Seller Ratings = 82%, Ship on Time = 95%, Return Policy = 14 days free & easy return (Change of mind is not applicable)\"\n",
    "\n",
    "# question = \"Show me watches under Rs. 200\"\n",
    "\n",
    "# def get_completion(prompt):\n",
    "#     messages = [{\n",
    "#         \"role\": \"user\", \n",
    "#         \"content\": prompt }]\n",
    "#     prompt2 = pipe.tokenizer.apply_chat_template(messages, tokenize=False, add_generation_prompt=True)\n",
    "#     outputs = pipe(prompt2, max_new_tokens=400, do_sample=True, temperature=0.7, top_k=50, top_p=0.95)\n",
    "#     return outputs[0][\"generated_text\"]\n",
    "\n",
    "# prompt = f\"\"\"\n",
    "# Based on the following information:\\n\\n\n",
    "# 1. {response1}\\n\\n\n",
    "# 2. {response2}\\n\\n\n",
    "# 3. {response3}\\n\\n\n",
    "# Please provide a detailed answer to the question: {question}.\n",
    "# Your answer should integrate the essence of all three responses, providing a unified answer that leverages the \\\n",
    "# diverse perspectives or data points provided by three responses.\n",
    "# \"\"\"\n",
    "\n",
    "# response = get_completion(prompt)\n",
    "# print(response)"
   ]
  }
 ],
 "metadata": {
  "kernelspec": {
   "display_name": "Python 3",
   "language": "python",
   "name": "python3"
  },
  "language_info": {
   "codemirror_mode": {
    "name": "ipython",
    "version": 3
   },
   "file_extension": ".py",
   "mimetype": "text/x-python",
   "name": "python",
   "nbconvert_exporter": "python",
   "pygments_lexer": "ipython3",
   "version": "3.11.4"
  }
 },
 "nbformat": 4,
 "nbformat_minor": 2
}
