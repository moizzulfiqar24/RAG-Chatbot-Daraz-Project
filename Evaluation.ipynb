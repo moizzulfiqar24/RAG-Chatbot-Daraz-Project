{
 "cells": [
  {
   "cell_type": "code",
   "execution_count": null,
   "metadata": {},
   "outputs": [],
   "source": [
    "import nltk\n",
    "from nltk.translate.bleu_score import sentence_bleu, SmoothingFunction\n",
    "from nltk.translate.meteor_score import meteor_score\n",
    "from rouge import Rouge\n",
    "from sklearn.metrics import f1_score\n",
    "from collections import Counter\n",
    "\n",
    "!python3 -m nltk.downloader -d /Users/moiz/nltk_data punkt\n",
    "nltk.data.path.append('/Users/moiz/nltk_data')\n",
    "\n",
    "def read_file(file_path):\n",
    "    with open(file_path, 'r', encoding='utf-8') as file:\n",
    "        return file.read().strip()\n",
    "\n",
    "def calculate_bleu(reference, candidate):\n",
    "    reference_tokens = [nltk.word_tokenize(reference)]\n",
    "    candidate_tokens = nltk.word_tokenize(candidate)\n",
    "    smooth = SmoothingFunction().method1\n",
    "    return sentence_bleu(reference_tokens, candidate_tokens, smoothing_function=smooth)\n",
    "\n",
    "def calculate_meteor(reference, candidate):\n",
    "    reference_tokens = nltk.word_tokenize(reference)\n",
    "    candidate_tokens = nltk.word_tokenize(candidate)\n",
    "    return meteor_score([reference_tokens], candidate_tokens)\n",
    "\n",
    "def calculate_rouge(reference, candidate):\n",
    "    rouge = Rouge()\n",
    "    scores = rouge.get_scores(candidate, reference)[0]\n",
    "    return scores\n",
    "\n",
    "def calculate_f1(reference, candidate):\n",
    "    reference_tokens = nltk.word_tokenize(reference)\n",
    "    candidate_tokens = nltk.word_tokenize(candidate)\n",
    "    common = Counter(reference_tokens) & Counter(candidate_tokens)\n",
    "    true_positives = sum(common.values())\n",
    "    pred_positives = len(candidate_tokens)\n",
    "    real_positives = len(reference_tokens)\n",
    "    precision = true_positives / pred_positives if pred_positives > 0 else 0\n",
    "    recall = true_positives / real_positives if real_positives > 0 else 0\n",
    "    f1 = 2 * (precision * recall) / (precision + recall) if (precision + recall) > 0 else 0\n",
    "    return f1"
   ]
  },
  {
   "cell_type": "markdown",
   "metadata": {},
   "source": [
    "# Main Data"
   ]
  },
  {
   "cell_type": "code",
   "execution_count": null,
   "metadata": {},
   "outputs": [],
   "source": [
    "# Paths to your files\n",
    "path_to_reference = 'reference.txt'  # Path to the expert's answer file\n",
    "path_to_candidate = 'candidate.txt'  # Path to the RAG's answer file\n",
    "\n",
    "# Read the contents\n",
    "reference_text = read_file(path_to_reference)\n",
    "candidate_text = read_file(path_to_candidate)\n",
    "\n",
    "# Calculate metrics\n",
    "bleu_score = calculate_bleu(reference_text, candidate_text)\n",
    "meteor_score = calculate_meteor(reference_text, candidate_text)\n",
    "rouge_scores = calculate_rouge(reference_text, candidate_text)\n",
    "f1_score = calculate_f1(reference_text, candidate_text)\n",
    "\n",
    "# Print results\n",
    "print(\"BLEU Score:\", bleu_score)\n",
    "print(\"METEOR Score:\", meteor_score)\n",
    "print(\"ROUGE Scores:\", rouge_scores)\n",
    "print(\"F1 Score:\", f1_score)"
   ]
  },
  {
   "cell_type": "markdown",
   "metadata": {},
   "source": [
    "# Seller"
   ]
  },
  {
   "cell_type": "markdown",
   "metadata": {},
   "source": [
    "# Paths to your files\n",
    "path_to_reference = 'reference.txt'  # Path to the expert's answer file\n",
    "path_to_candidate = 'candidate.txt'  # Path to the RAG's answer file\n",
    "\n",
    "# Read the contents\n",
    "reference_text = read_file(path_to_reference)\n",
    "candidate_text = read_file(path_to_candidate)\n",
    "\n",
    "# Calculate metrics\n",
    "bleu_score = calculate_bleu(reference_text, candidate_text)\n",
    "meteor_score = calculate_meteor(reference_text, candidate_text)\n",
    "rouge_scores = calculate_rouge(reference_text, candidate_text)\n",
    "f1_score = calculate_f1(reference_text, candidate_text)\n",
    "\n",
    "# Print results\n",
    "print(\"BLEU Score:\", bleu_score)\n",
    "print(\"METEOR Score:\", meteor_score)\n",
    "print(\"ROUGE Scores:\", rouge_scores)\n",
    "print(\"F1 Score:\", f1_score)\n"
   ]
  }
 ],
 "metadata": {
  "kernelspec": {
   "display_name": "Python 3",
   "language": "python",
   "name": "python3"
  },
  "language_info": {
   "codemirror_mode": {
    "name": "ipython",
    "version": 3
   },
   "file_extension": ".py",
   "mimetype": "text/x-python",
   "name": "python",
   "nbconvert_exporter": "python",
   "pygments_lexer": "ipython3",
   "version": "3.11.4"
  }
 },
 "nbformat": 4,
 "nbformat_minor": 2
}
