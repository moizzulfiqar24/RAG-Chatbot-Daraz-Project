{
 "cells": [
  {
   "cell_type": "code",
   "execution_count": 81,
   "metadata": {},
   "outputs": [],
   "source": [
    "from gensim.models.doc2vec import Doc2Vec, TaggedDocument\n",
    "from langchain.document_loaders import TextLoader\n",
    "from langchain.text_splitter import CharacterTextSplitter\n",
    "from langchain.embeddings.openai import OpenAIEmbeddings\n",
    "from langchain.vectorstores import Chroma\n",
    "from sentence_transformers import SentenceTransformer\n",
    "from langchain.embeddings import GPT4AllEmbeddings"
   ]
  },
  {
   "cell_type": "code",
   "execution_count": 82,
   "metadata": {},
   "outputs": [],
   "source": [
    "with open('FinalProductsList.txt', 'r', encoding=\"utf8\") as f:\n",
    "    document = f.readlines()"
   ]
  },
  {
   "cell_type": "code",
   "execution_count": 83,
   "metadata": {},
   "outputs": [],
   "source": [
    "documents = [TaggedDocument(doc, [i]) for i, doc in enumerate(document)]"
   ]
  },
  {
   "cell_type": "code",
   "execution_count": 84,
   "metadata": {},
   "outputs": [],
   "source": [
    "# model = Doc2Vec(documents, vector_size=100, min_count=1, workers=4, epochs=10)\n",
    "model = Doc2Vec(documents, vector_size=50, min_count=1, workers=4, epochs=5)\n",
    "model.train(documents, total_examples=model.corpus_count, epochs=model.epochs)"
   ]
  },
  {
   "cell_type": "code",
   "execution_count": 85,
   "metadata": {},
   "outputs": [
    {
     "name": "stdout",
     "output_type": "stream",
     "text": [
      "Corpus Count: 19\n",
      "Vector Size: 50\n",
      "Number of Document Vectors: 19\n",
      "Number of Word Vectors: 77\n"
     ]
    }
   ],
   "source": [
    "print(f\"Corpus Count: {model.corpus_count}\")\n",
    "print(f\"Vector Size: {model.vector_size}\")\n",
    "print(f\"Number of Document Vectors: {len(model.dv)}\")\n",
    "print(f\"Number of Word Vectors: {len(model.wv)}\")"
   ]
  },
  {
   "cell_type": "code",
   "execution_count": 86,
   "metadata": {},
   "outputs": [],
   "source": [
    "query = \"Show me watches under Rs. 200\"\n",
    "query_vector = model.infer_vector(query.split())"
   ]
  },
  {
   "cell_type": "code",
   "execution_count": 87,
   "metadata": {},
   "outputs": [
    {
     "name": "stdout",
     "output_type": "stream",
     "text": [
      "Similar Documents: [(16, 0.06442073732614517), (14, 0.060320742428302765), (0, 0.05943944305181503), (10, 0.0587504543364048), (18, 0.05813738331198692), (2, 0.05607957765460014), (6, 0.055554721504449844), (17, 0.05519576743245125), (9, 0.053619056940078735), (11, 0.05275766924023628)]\n"
     ]
    }
   ],
   "source": [
    "similar_documents = model.dv.most_similar([query_vector])\n",
    "print(\"Similar Documents:\", similar_documents)"
   ]
  },
  {
   "cell_type": "code",
   "execution_count": 88,
   "metadata": {},
   "outputs": [
    {
     "name": "stdout",
     "output_type": "stream",
     "text": [
      "Similarity: 0.06442073732614517 Document Text: Product 17: Product Name = Qiunery YESURPRISE Unisex Antique Case Vintage Brass Rib Chain Quartz Pocket Watch Train, Product Category = Watches Sunglasses Jewellery/Watches/Men/Fashion, Brand Name = No Brand, Seller Name = Qiunery, URL = https://www.daraz.pk/products/qiunery-yesur-i202992571-s1402460810.html?search=1, Price Details = Original: Rs. 1790, Discounted: Rs. 1250, Positive Seller Ratings = 82%, Ship on Time = 100%, Return Policy = 14 days free & easy return (Change of mind is not applicable)\n",
      "\n",
      "Similarity: 0.060320742428302765 Document Text: Product 15: Product Name = BUISNESS WATCH CLASSIC LUXURY ROUND DILE STEEL STRAPS WITH SILVER HAND|WRIST BRACELT CHAIN FOR BOYS MENS, Product Category = Watches Sunglasses Jewellery/Watches/Men/Business, Brand Name = No Brand, Seller Name = Finds Shop, URL = https://www.daraz.pk/products/-i438130449-s2118958341.html?search=1, Price Details = Original: Rs. 999, Discounted: Rs. 457 | Original: Rs. 999, Discounted: Rs. 529, Positive Seller Ratings = 82%, Ship on Time = 95%, Return Policy = 14 days free & easy return (Change of mind is not applicable)\n",
      "\n",
      "Similarity: 0.05943944305181503 Document Text: Product 01: Product Name = Customized Wrist Watch with Photo|Logo & Name, Product Category = Watches Sunglasses Jewellery/Watches/Men/Fashion, Brand Name = No Brand, Seller Name = Personalized Memories, URL = https://www.daraz.pk/products/-i363571651-s1814637678.html?search=1, Price Details = Original: Rs. 999, Discounted: Rs. 585, Positive Seller Ratings = 88%, Ship on Time = 100%, Return Policy = 14 days free & easy return (Change of mind is not applicable)\n",
      "\n",
      "Similarity: 0.0587504543364048 Document Text: Product 11: Product Name = Branded Watch For Men and Boys Latest Design Matt Chain Fashion Wrist Watch Rubber Straps Casual Watch for Men Quartz Watches for Boys & Men, Product Category = Watches Sunglasses Jewellery/Watches/Men/Fashion, Brand Name = No Brand, Seller Name = The Wardrobee, URL = https://www.daraz.pk/products/-i419428976-s2095369287.html?search=1, Price Details = Original: Rs. 1399, Discounted: Rs. 760 | Original: Rs. 899, Discounted: Rs. 570 | Original: Rs. 999, Discounted: Rs. 720 | Original: Rs. 899, Discounted: Rs. 680 | Original: Rs. 1399, Discounted: Rs. 999, Positive Seller Ratings = 86%, Ship on Time = 97%, Return Policy = 14 days free & easy return (Change of mind is not applicable)\n",
      "\n",
      "Similarity: 0.05813738331198692 Document Text: Product 19: Product Name = Samsung galaxy auto focus A10, Product Category = Mobiles & Tablets/Mobile Accessories/Phone Cases, Brand Name = No Brand, Seller Name = Zyaan Accessories, URL = https://www.daraz.pk/products/a10-i431770549-s2081865532.html?search=1, Price Details = Original: Rs. 350, Discounted: Rs. 180, Positive Seller Ratings = 81%, Ship on Time = 84%, Return Policy = 14 days free & easy return (Change of mind is not applicable)\n",
      "\n",
      "Similarity: 0.05607957765460014 Document Text: Product 03: Product Name = Sports Digtal Fashion Watch Women Men Square LED Watch Silicone Electronic Watch Women's Watches Clock, Product Category = Watches Sunglasses Jewellery/Watches/Men/Sports, Brand Name = No Brand, Seller Name = Modern watch company, URL = https://www.daraz.pk/products/led-i431801201-s2265468211.html?search=1, Price Details = Original: Rs. 899, Discounted: Rs. 300 | Original: Rs. 650, Discounted: Rs. 199, Positive Seller Ratings = 79%, Ship on Time = 97%, Return Policy = 14 days free & easy return (Change of mind is not applicable)\n",
      "\n",
      "Similarity: 0.055554721504449844 Document Text: Product 07: Product Name = Casual Fashion Wrist Watch Rubber Straps Men Quartz Watch For Boys & Men, Product Category = Watches Sunglasses Jewellery/Watches/Men/Casual, Brand Name = No Brand, Seller Name = New-Gen, URL = https://www.daraz.pk/products/-i454962186-s2156721169.html?search=1, Price Details = Original: Rs. 999, Discounted: Rs. 750 | Original: Rs. 999, Discounted: Rs. 680 | Original: Rs. 999, Discounted: Rs. 720 | Original: Rs. 699, Discounted: Rs. 598 | Original: Rs. 999, Discounted: Rs. 700, Positive Seller Ratings = 89%, Ship on Time = 94%, Return Policy = 14 days free & easy return (Change of mind is not applicable)\n",
      "\n",
      "Similarity: 0.05519576743245125 Document Text: Product 18: Product Name = Samsung Galaxy A15 6GB RAM + 128 GB ROM, Product Category = Mobiles & Tablets/Mobiles, Brand Name = Samsung, Seller Name = Samsung, URL = https://www.daraz.pk/products/samsung-galaxy-a15-6gb-ram-128-gb-rom-i467969987-s2248436657.html?search=1, Price Details = Original: Rs. 52999, Discounted: Rs. 47499, Positive Seller Ratings = 92%, Ship on Time = 100%, Return Policy = 14 days free & easy return (Change of mind is not applicable)\n",
      "\n",
      "Similarity: 0.053619056940078735 Document Text: Product 10: Product Name = 2022 trend full-automatic quartz movement men's watch wheel non mechanical watch wrist watch fashion men's watch, Product Category = Watches Sunglasses Jewellery/Watches/Men/Fashion, Brand Name = No Brand, Seller Name = lamgool Electronic, URL = https://www.daraz.pk/products/2022-i366103747-s1819200832.html?search=1, Price Details = Original: Rs. 1836, Discounted: Rs. 1410, Positive Seller Ratings = 81%, Ship on Time = 100%, Return Policy = 14 days free & easy return (Change of mind is not applicable)\n",
      "\n",
      "Similarity: 0.05275766924023628 Document Text: Product 12: Product Name = High Quality Wrist Watch For Men & Boys| Decent Wrist Leather Strap Attractive Dial, Product Category = Watches Sunglasses Jewellery/Watches/Men/Fashion, Brand Name = No Brand, Seller Name = Maal-Lo, URL = https://www.daraz.pk/products/-i409485404-s1960964280.html?search=1, Price Details = Original: Rs. 1000, Discounted: Rs. 699 | Original: Rs. 1000, Discounted: Rs. 900 | Original: Rs. 1000, Discounted: Rs. 799 | Original: Rs. 1000, Discounted: Rs. 580 | Original: Rs. 1000, Discounted: Rs. 590 | Original: Rs. 1000, Discounted: Rs. 580, Positive Seller Ratings = 90%, Ship on Time = 98%, Return Policy = 14 days free & easy return (Change of mind is not applicable)\n",
      "\n"
     ]
    }
   ],
   "source": [
    "for idx, score in similar_documents:\n",
    "    print(f\"Similarity: {score} Document Text: {document[idx]}\")\n"
   ]
  },
  {
   "cell_type": "code",
   "execution_count": 89,
   "metadata": {},
   "outputs": [],
   "source": [
    "text_splitter = CharacterTextSplitter(separator=\"\\n\", chunk_size=200, chunk_overlap=0)\n"
   ]
  },
  {
   "cell_type": "code",
   "execution_count": 90,
   "metadata": {},
   "outputs": [
    {
     "name": "stderr",
     "output_type": "stream",
     "text": [
      "Created a chunk of size 463, which is longer than the specified 200\n",
      "Created a chunk of size 675, which is longer than the specified 200\n",
      "Created a chunk of size 561, which is longer than the specified 200\n",
      "Created a chunk of size 708, which is longer than the specified 200\n",
      "Created a chunk of size 550, which is longer than the specified 200\n",
      "Created a chunk of size 526, which is longer than the specified 200\n",
      "Created a chunk of size 638, which is longer than the specified 200\n",
      "Created a chunk of size 502, which is longer than the specified 200\n",
      "Created a chunk of size 490, which is longer than the specified 200\n",
      "Created a chunk of size 533, which is longer than the specified 200\n",
      "Created a chunk of size 715, which is longer than the specified 200\n",
      "Created a chunk of size 697, which is longer than the specified 200\n",
      "Created a chunk of size 455, which is longer than the specified 200\n",
      "Created a chunk of size 511, which is longer than the specified 200\n",
      "Created a chunk of size 552, which is longer than the specified 200\n",
      "Created a chunk of size 751, which is longer than the specified 200\n",
      "Created a chunk of size 507, which is longer than the specified 200\n",
      "Created a chunk of size 460, which is longer than the specified 200\n"
     ]
    }
   ],
   "source": [
    "loader = TextLoader(\"FinalProductsList.txt\")\n",
    "docs = loader.load()\n",
    "splits = text_splitter.split_documents(docs)"
   ]
  },
  {
   "cell_type": "code",
   "execution_count": 91,
   "metadata": {},
   "outputs": [],
   "source": [
    "# # %%\n",
    "# # Use Sentence Transformers to generate embeddings for example sentences\n",
    "# sentences = [\"This is an example sentence\", \"Each sentence is converted\"]\n",
    "# sentence_model = SentenceTransformer('all-MiniLM-L6-v2')\n",
    "# embeddings = sentence_model.encode(sentences)\n",
    "# print(\"Embeddings Shape:\", embeddings.shape)\n"
   ]
  },
  {
   "cell_type": "code",
   "execution_count": 92,
   "metadata": {},
   "outputs": [],
   "source": [
    "persist_directory = 'chroma/ProductsSearch'\n",
    "vectordb = Chroma.from_documents(\n",
    "    documents=splits,\n",
    "    embedding=GPT4AllEmbeddings(),\n",
    "    persist_directory=persist_directory\n",
    ")\n",
    "vectordb.persist()"
   ]
  },
  {
   "cell_type": "code",
   "execution_count": 93,
   "metadata": {},
   "outputs": [
    {
     "name": "stdout",
     "output_type": "stream",
     "text": [
      "\n",
      "\n",
      "0.94700026512146\n",
      "Product 03: Product Name = Sports Digtal Fashion Watch Women Men Square LED Watch Silicone Electronic Watch Women's Watches Clock, Product Category = Watches Sunglasses Jewellery/Watches/Men/Sports, Brand Name = No Brand, Seller Name = Modern watch company, URL = https://www.daraz.pk/products/led-i431801201-s2265468211.html?search=1, Price Details = Original: Rs. 899, Discounted: Rs. 300 | Original: Rs. 650, Discounted: Rs. 199, Positive Seller Ratings = 79%, Ship on Time = 97%, Return Policy = 14 days free & easy return (Change of mind is not applicable)\n",
      "\n",
      "\n",
      "0.94700026512146\n",
      "Product 03: Product Name = Sports Digtal Fashion Watch Women Men Square LED Watch Silicone Electronic Watch Women's Watches Clock, Product Category = Watches Sunglasses Jewellery/Watches/Men/Sports, Brand Name = No Brand, Seller Name = Modern watch company, URL = https://www.daraz.pk/products/led-i431801201-s2265468211.html?search=1, Price Details = Original: Rs. 899, Discounted: Rs. 300 | Original: Rs. 650, Discounted: Rs. 199, Positive Seller Ratings = 79%, Ship on Time = 97%, Return Policy = 14 days free & easy return (Change of mind is not applicable)\n",
      "\n",
      "\n",
      "0.94700026512146\n",
      "Product 03: Product Name = Sports Digtal Fashion Watch Women Men Square LED Watch Silicone Electronic Watch Women's Watches Clock, Product Category = Watches Sunglasses Jewellery/Watches/Men/Sports, Brand Name = No Brand, Seller Name = Modern watch company, URL = https://www.daraz.pk/products/led-i431801201-s2265468211.html?search=1, Price Details = Original: Rs. 899, Discounted: Rs. 300 | Original: Rs. 650, Discounted: Rs. 199, Positive Seller Ratings = 79%, Ship on Time = 97%, Return Policy = 14 days free & easy return (Change of mind is not applicable)\n"
     ]
    }
   ],
   "source": [
    "docs = vectordb.similarity_search_with_score(query, k=3)\n",
    "for result in docs:\n",
    "    print(\"\\n\")\n",
    "    print(result[1])\n",
    "    print(result[0].page_content)"
   ]
  },
  {
   "cell_type": "code",
   "execution_count": 94,
   "metadata": {},
   "outputs": [],
   "source": [
    "with open(\"search_results.txt\", \"w\") as file:\n",
    "    for result in docs:\n",
    "        # Write a separator for each result\n",
    "        file.write(\"\\n\")\n",
    "        file.write(str(result[1]) + \"\\n\")  # Convert the title to string before writing\n",
    "        file.write(result[0].page_content + \"\\n\")  # Write the page content"
   ]
  },
  {
   "cell_type": "code",
   "execution_count": 95,
   "metadata": {},
   "outputs": [],
   "source": [
    "# with open(\"search_results.txt\", \"w\") as file:\n",
    "#     response_number = 1\n",
    "#     for result in docs:\n",
    "#         file.write(\"response{} =\".format(response_number))\n",
    "#         # file.write(str(result[1]) + \"\\n\")  # Convert the title to string before writing\n",
    "#         file.write(result[0].page_content + \"\\n\")  \n",
    "#         response_number += 1"
   ]
  },
  {
   "cell_type": "code",
   "execution_count": null,
   "metadata": {},
   "outputs": [],
   "source": []
  }
 ],
 "metadata": {
  "kernelspec": {
   "display_name": "Python 3",
   "language": "python",
   "name": "python3"
  },
  "language_info": {
   "codemirror_mode": {
    "name": "ipython",
    "version": 3
   },
   "file_extension": ".py",
   "mimetype": "text/x-python",
   "name": "python",
   "nbconvert_exporter": "python",
   "pygments_lexer": "ipython3",
   "version": "3.11.4"
  }
 },
 "nbformat": 4,
 "nbformat_minor": 2
}
