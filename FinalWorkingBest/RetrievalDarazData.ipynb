{
 "cells": [
  {
   "cell_type": "markdown",
   "metadata": {},
   "source": [
    "# Using Sentence Embedding"
   ]
  },
  {
   "cell_type": "code",
   "execution_count": 2,
   "metadata": {},
   "outputs": [],
   "source": [
    "# %%\n",
    "from sentence_transformers import SentenceTransformer, util\n",
    "import numpy as np\n",
    "import torch\n",
    "\n",
    "# %%\n",
    "# Load the data from the text file\n",
    "with open('DarazData02.txt', 'r', encoding=\"utf8\") as f:\n",
    "    products = f.readlines()\n",
    "\n",
    "# %%\n",
    "# Initialize the sentence transformer model for generating embeddings\n",
    "model = SentenceTransformer('all-MiniLM-L6-v2')\n",
    "\n",
    "# Generate embeddings for each product\n",
    "product_embeddings = model.encode(products, convert_to_tensor=True)"
   ]
  },
  {
   "cell_type": "code",
   "execution_count": 3,
   "metadata": {},
   "outputs": [
    {
     "name": "stdout",
     "output_type": "stream",
     "text": [
      "Query: What are your refund policies?\n",
      "\n",
      "Score: 0.5706478953361511\n",
      "Product Details: 1.19 “Returns and Refunds Policy” shall mean the applicable Company policies which govern the procedure for returns and refunds of Products by Customers on the relevant Channels located at Returns and Refunds Policy of Pakistan.\n",
      "\n",
      "\n",
      "Score: 0.549439549446106\n",
      "Product Details: Home & Living Bedding & Bath, Furniture & Lighting, Kitchen & Dining, Home Décor, Home Improvements, Household & Home Storage Supplies, Lawn & Garden,Other Accessories Change of mind isnot applicable for return and refund. If the item received is damaged, defective, incorrect, or incomplete, a refund will be issued based on Daraz's assessment. Note: For device-related issues after usage or expiration of return policy period, please check if the item is covered under Seller orBrand Warranty. Refer to our Warranty Policy for information on the different warranty types and ways to contact the seller/manufacturer. Items that are non-returnable: Any custom-made items\n",
      "\n"
     ]
    }
   ],
   "source": [
    "# %%\n",
    "# Define a function to search for similar products\n",
    "def search_products(query, k):\n",
    "    query_embedding = model.encode(query, convert_to_tensor=True)\n",
    "    cosine_scores = util.pytorch_cos_sim(query_embedding, product_embeddings)[0]\n",
    "    top_results = torch.topk(cosine_scores, k=k)\n",
    "\n",
    "    print(\"Query:\", query)\n",
    "    for score, idx in zip(top_results[0], top_results[1]):\n",
    "        print(\"\\nScore:\", score.item())\n",
    "        print(\"Product Details:\", products[idx])\n",
    "\n",
    "# %%\n",
    "# Example query\n",
    "search_query = \"What are your refund policies?\"\n",
    "search_products(search_query, 2)"
   ]
  },
  {
   "cell_type": "markdown",
   "metadata": {},
   "source": [
    "# Using VectorDB"
   ]
  },
  {
   "cell_type": "code",
   "execution_count": 4,
   "metadata": {},
   "outputs": [],
   "source": [
    "from gensim.models.doc2vec import Doc2Vec, TaggedDocument\n",
    "from langchain.document_loaders import TextLoader\n",
    "from langchain.text_splitter import CharacterTextSplitter\n",
    "from langchain.embeddings.openai import OpenAIEmbeddings\n",
    "from langchain.vectorstores import Chroma\n",
    "from sentence_transformers import SentenceTransformer\n",
    "from langchain.embeddings import GPT4AllEmbeddings"
   ]
  },
  {
   "cell_type": "code",
   "execution_count": 5,
   "metadata": {},
   "outputs": [],
   "source": [
    "query = search_query"
   ]
  },
  {
   "cell_type": "code",
   "execution_count": 6,
   "metadata": {},
   "outputs": [],
   "source": [
    "text_splitter = CharacterTextSplitter(separator=\"\\n\", chunk_size=650, chunk_overlap=0)"
   ]
  },
  {
   "cell_type": "code",
   "execution_count": 7,
   "metadata": {},
   "outputs": [
    {
     "name": "stderr",
     "output_type": "stream",
     "text": [
      "Created a chunk of size 26958, which is longer than the specified 650\n",
      "Created a chunk of size 1422, which is longer than the specified 650\n",
      "Created a chunk of size 1350, which is longer than the specified 650\n",
      "Created a chunk of size 685, which is longer than the specified 650\n",
      "Created a chunk of size 868, which is longer than the specified 650\n",
      "Created a chunk of size 871, which is longer than the specified 650\n",
      "Created a chunk of size 656, which is longer than the specified 650\n",
      "Created a chunk of size 1285, which is longer than the specified 650\n",
      "Created a chunk of size 720, which is longer than the specified 650\n",
      "Created a chunk of size 2500, which is longer than the specified 650\n",
      "Created a chunk of size 1005, which is longer than the specified 650\n",
      "Created a chunk of size 743, which is longer than the specified 650\n",
      "Created a chunk of size 2032, which is longer than the specified 650\n",
      "Created a chunk of size 762, which is longer than the specified 650\n",
      "Created a chunk of size 945, which is longer than the specified 650\n",
      "Created a chunk of size 976, which is longer than the specified 650\n",
      "Created a chunk of size 860, which is longer than the specified 650\n",
      "Created a chunk of size 823, which is longer than the specified 650\n",
      "Created a chunk of size 1537, which is longer than the specified 650\n",
      "Created a chunk of size 911, which is longer than the specified 650\n",
      "Created a chunk of size 728, which is longer than the specified 650\n",
      "Created a chunk of size 685, which is longer than the specified 650\n",
      "Created a chunk of size 677, which is longer than the specified 650\n",
      "Created a chunk of size 866, which is longer than the specified 650\n",
      "Created a chunk of size 841, which is longer than the specified 650\n",
      "Created a chunk of size 1662, which is longer than the specified 650\n",
      "Created a chunk of size 734, which is longer than the specified 650\n",
      "Created a chunk of size 2178, which is longer than the specified 650\n",
      "Created a chunk of size 1608, which is longer than the specified 650\n",
      "Created a chunk of size 1388, which is longer than the specified 650\n",
      "Created a chunk of size 881, which is longer than the specified 650\n",
      "Created a chunk of size 1218, which is longer than the specified 650\n",
      "Created a chunk of size 1121, which is longer than the specified 650\n",
      "Created a chunk of size 1165, which is longer than the specified 650\n",
      "Created a chunk of size 808, which is longer than the specified 650\n",
      "Created a chunk of size 960, which is longer than the specified 650\n",
      "Created a chunk of size 957, which is longer than the specified 650\n",
      "Created a chunk of size 1483, which is longer than the specified 650\n",
      "Created a chunk of size 740, which is longer than the specified 650\n",
      "Created a chunk of size 1270, which is longer than the specified 650\n",
      "Created a chunk of size 783, which is longer than the specified 650\n",
      "Created a chunk of size 785, which is longer than the specified 650\n",
      "Created a chunk of size 968, which is longer than the specified 650\n",
      "Created a chunk of size 2486, which is longer than the specified 650\n",
      "Created a chunk of size 1149, which is longer than the specified 650\n",
      "Created a chunk of size 949, which is longer than the specified 650\n",
      "Created a chunk of size 963, which is longer than the specified 650\n",
      "Created a chunk of size 821, which is longer than the specified 650\n",
      "Created a chunk of size 722, which is longer than the specified 650\n",
      "Created a chunk of size 940, which is longer than the specified 650\n",
      "Created a chunk of size 2510, which is longer than the specified 650\n",
      "Created a chunk of size 1247, which is longer than the specified 650\n",
      "Created a chunk of size 922, which is longer than the specified 650\n",
      "Created a chunk of size 677, which is longer than the specified 650\n",
      "Created a chunk of size 1407, which is longer than the specified 650\n",
      "Created a chunk of size 763, which is longer than the specified 650\n",
      "Created a chunk of size 1085, which is longer than the specified 650\n",
      "Created a chunk of size 670, which is longer than the specified 650\n",
      "Created a chunk of size 1101, which is longer than the specified 650\n",
      "Created a chunk of size 830, which is longer than the specified 650\n",
      "Created a chunk of size 786, which is longer than the specified 650\n",
      "Created a chunk of size 1334, which is longer than the specified 650\n",
      "Created a chunk of size 1167, which is longer than the specified 650\n",
      "Created a chunk of size 881, which is longer than the specified 650\n",
      "Created a chunk of size 1055, which is longer than the specified 650\n",
      "Created a chunk of size 1171, which is longer than the specified 650\n",
      "Created a chunk of size 1244, which is longer than the specified 650\n",
      "Created a chunk of size 777, which is longer than the specified 650\n",
      "Created a chunk of size 1341, which is longer than the specified 650\n",
      "Created a chunk of size 754, which is longer than the specified 650\n",
      "Created a chunk of size 666, which is longer than the specified 650\n",
      "Created a chunk of size 946, which is longer than the specified 650\n",
      "Created a chunk of size 893, which is longer than the specified 650\n",
      "Created a chunk of size 658, which is longer than the specified 650\n",
      "Created a chunk of size 1069, which is longer than the specified 650\n",
      "Created a chunk of size 1301, which is longer than the specified 650\n",
      "Created a chunk of size 1754, which is longer than the specified 650\n",
      "Created a chunk of size 830, which is longer than the specified 650\n",
      "Created a chunk of size 655, which is longer than the specified 650\n",
      "Created a chunk of size 666, which is longer than the specified 650\n",
      "Created a chunk of size 840, which is longer than the specified 650\n",
      "Created a chunk of size 845, which is longer than the specified 650\n",
      "Created a chunk of size 685, which is longer than the specified 650\n",
      "Created a chunk of size 1200, which is longer than the specified 650\n",
      "Created a chunk of size 778, which is longer than the specified 650\n",
      "Created a chunk of size 752, which is longer than the specified 650\n",
      "Created a chunk of size 695, which is longer than the specified 650\n",
      "Created a chunk of size 772, which is longer than the specified 650\n",
      "Created a chunk of size 826, which is longer than the specified 650\n",
      "Created a chunk of size 706, which is longer than the specified 650\n",
      "Created a chunk of size 688, which is longer than the specified 650\n",
      "Created a chunk of size 735, which is longer than the specified 650\n",
      "Created a chunk of size 1022, which is longer than the specified 650\n",
      "Created a chunk of size 3013, which is longer than the specified 650\n",
      "Created a chunk of size 746, which is longer than the specified 650\n",
      "Created a chunk of size 993, which is longer than the specified 650\n"
     ]
    }
   ],
   "source": [
    "loader = TextLoader(\"DarazData02.txt\")\n",
    "docs = loader.load()\n",
    "splits = text_splitter.split_documents(docs)"
   ]
  },
  {
   "cell_type": "code",
   "execution_count": 8,
   "metadata": {},
   "outputs": [],
   "source": [
    "persist_directory = 'chroma/RetrievalDarazData'\n",
    "vectordb = Chroma.from_documents(\n",
    "    documents=splits,\n",
    "    embedding=GPT4AllEmbeddings(),\n",
    "    persist_directory=persist_directory\n",
    ")\n",
    "vectordb.persist()"
   ]
  },
  {
   "cell_type": "code",
   "execution_count": 9,
   "metadata": {},
   "outputs": [
    {
     "name": "stdout",
     "output_type": "stream",
     "text": [
      "\n",
      "\n",
      "0.9012474417686462\n",
      "Home & Living Bedding & Bath, Furniture & Lighting, Kitchen & Dining, Home Décor, Home Improvements, Household & Home Storage Supplies, Lawn & Garden,Other Accessories Change of mind isnot applicable for return and refund. If the item received is damaged, defective, incorrect, or incomplete, a refund will be issued based on Daraz's assessment. Note: For device-related issues after usage or expiration of return policy period, please check if the item is covered under Seller orBrand Warranty. Refer to our Warranty Policy for information on the different warranty types and ways to contact the seller/manufacturer. Items that are non-returnable: Any custom-made items\n",
      "\n",
      "\n",
      "0.9291806817054749\n",
      "What is the cancellation and return policy for Buy More, Save More orders? Partial cancellations are not allowed but partial returns are allowed on Buy More, Save More orders i.e. you will not be able to cancel 1 or 2 products in your order and would instead have to cancel the entire order. But if you decide to apply for a return, you can return certain items out of your total Buy More, Save More order. If a certain number of products from a Buy More, Save More order are eligible for a return, partial refund will be issued to the customer after these items have been returned by the customer & quality checked by Daraz. Partial refunds are calculated on item level of each bundle. The total amount paid for the order will be divided by the quantity of products, multiplied by the number of items you have returned. Cancellation is not allowed after your order is processed by the seller. In case you have received your order but are not satisfied with your purchase, you can submit a return request within 14 days from the day it is delivered to you. Decision on returns and refunds taken by Daraz will be final in its sole discretion. Returning Buy More, Save More products under ‘Change of mind’ return reason is not applicable. In case a customer tries to circumvent the terms and conditions and abuse subsidies by creating new accounts, they will be unable to place their order.\n"
     ]
    }
   ],
   "source": [
    "docs = vectordb.similarity_search_with_score(query, k=2)\n",
    "for result in docs:\n",
    "    print(\"\\n\")\n",
    "    print(result[1])\n",
    "    print(result[0].page_content)"
   ]
  },
  {
   "cell_type": "code",
   "execution_count": 10,
   "metadata": {},
   "outputs": [
    {
     "name": "stdout",
     "output_type": "stream",
     "text": [
      "question = \"What are your refund policies?\"\n",
      "response1 = \"Home & Living Bedding & Bath, Furniture & Lighting, Kitchen & Dining, Home Décor, Home Improvements, Household & Home Storage Supplies, Lawn & Garden,Other Accessories Change of mind isnot applicable for return and refund. If the item received is damaged, defective, incorrect, or incomplete, a refund will be issued based on Daraz's assessment. Note: For device-related issues after usage or expiration of return policy period, please check if the item is covered under Seller orBrand Warranty. Refer to our Warranty Policy for information on the different warranty types and ways to contact the seller/manufacturer. Items that are non-returnable: Any custom-made items\"\n",
      "response2 = \"What is the cancellation and return policy for Buy More, Save More orders? Partial cancellations are not allowed but partial returns are allowed on Buy More, Save More orders i.e. you will not be able to cancel 1 or 2 products in your order and would instead have to cancel the entire order. But if you decide to apply for a return, you can return certain items out of your total Buy More, Save More order. If a certain number of products from a Buy More, Save More order are eligible for a return, partial refund will be issued to the customer after these items have been returned by the customer & quality checked by Daraz. Partial refunds are calculated on item level of each bundle. The total amount paid for the order will be divided by the quantity of products, multiplied by the number of items you have returned. Cancellation is not allowed after your order is processed by the seller. In case you have received your order but are not satisfied with your purchase, you can submit a return request within 14 days from the day it is delivered to you. Decision on returns and refunds taken by Daraz will be final in its sole discretion. Returning Buy More, Save More products under ‘Change of mind’ return reason is not applicable. In case a customer tries to circumvent the terms and conditions and abuse subsidies by creating new accounts, they will be unable to place their order.\"\n"
     ]
    }
   ],
   "source": [
    "print(\"question = \\\"\" + query + \"\\\"\")\n",
    "count = 1\n",
    "for result in docs:\n",
    "    print(f\"response\" + str(count) + \" = \\\"\" + result[0].page_content + \"\\\"\")  \n",
    "    count+=1"
   ]
  },
  {
   "cell_type": "code",
   "execution_count": 11,
   "metadata": {},
   "outputs": [],
   "source": [
    "# from transformers import AutoModelForCausalLM, AutoTokenizer\n",
    "# from transformers.generation import GenerationConfig\n",
    "# import warnings\n",
    "# warnings.filterwarnings(\"ignore\")\n",
    "# import textwrap\n",
    "\n",
    "# !pip install tiktoken\n",
    "# !pip install tiktoken transformers_stream_generator einops optimum auto-gptq\n",
    "# tokenizer = AutoTokenizer.from_pretrained(\"Qwen/Qwen-1_8B-Chat\", trust_remote_code=True)\n",
    "# from transformers import pipeline\n",
    "# pipe = pipeline(\"text-generation\", model=\"Qwen/Qwen-1_8B-Chat\", device_map=\"auto\", trust_remote_code=True)\n",
    "\n",
    "# question = \"Show me watches from sellers with more than 90% positive ratings.\"\n",
    "# response1 = \"Product 12: Product Name = High Quality Wrist Watch For Men & Boys| Decent Wrist Leather Strap Attractive Dial, Product Category = Watches Sunglasses Jewellery/Watches/Men/Fashion, Brand Name = No Brand, Seller Name = Maal-Lo, URL = https://www.daraz.pk/products/-i409485404-s1960964280.html?search=1, Price Details = Original: Rs. 1000, Discounted: Rs. 699 | Original: Rs. 1000, Discounted: Rs. 900 | Original: Rs. 1000, Discounted: Rs. 799 | Original: Rs. 1000, Discounted: Rs. 580 | Original: Rs. 1000, Discounted: Rs. 590 | Original: Rs. 1000, Discounted: Rs. 580, Positive Seller Ratings = 90%, Ship on Time = 98%, Return Policy = 14 days free & easy return (Change of mind is not applicable)\"\n",
    "# response2 = \"Product 08: Product Name = OMG's Stylish watch for men , steel Built Design , Heavy Weight Watch in Fashion and for Casual use, Product Category = Watches Sunglasses Jewellery/Watches/Men/Fashion, Brand Name = No Brand, Seller Name = OMGs, URL = https://www.daraz.pk/products/-i433228448-s2139698887.html?search=1, Price Details = Original: Rs. 2500, Discounted: Rs. 2199, Positive Seller Ratings = 96%, Ship on Time = 100%, Return Policy = 14 days free & easy return (Change of mind is not applicable)\"\n",
    "\n",
    "# def get_completion(prompt):\n",
    "#     messages = [{\n",
    "#         \"role\": \"user\", \n",
    "#         \"content\": prompt }]\n",
    "#     prompt2 = pipe.tokenizer.apply_chat_template(messages, tokenize=False, add_generation_prompt=True)\n",
    "#     outputs = pipe(prompt2, max_new_tokens=400, do_sample=True, temperature=0.7, top_k=50, top_p=0.95)\n",
    "#     return outputs[0][\"generated_text\"]\n",
    "\n",
    "# prompt = f\"\"\"\n",
    "# Based on the following information:\\n\\n\n",
    "# 1. {response1}\\n\\n\n",
    "# 2. {response2}\\n\\n\n",
    "# 3. {response3}\\n\\n\n",
    "# Please provide a detailed answer to the question: {question}.\n",
    "# Your answer should integrate the essence of all three responses, providing a unified answer that leverages the \\\n",
    "# diverse perspectives or data points provided by three responses.\n",
    "# \"\"\"\n",
    "\n",
    "# response = get_completion(prompt)\n",
    "# print(response)"
   ]
  },
  {
   "cell_type": "markdown",
   "metadata": {},
   "source": [
    "Based on the following information:\n",
    "\n",
    "\n",
    "1. Product 12: Product Name = High Quality Wrist Watch For Men & Boys| Decent Wrist Leather Strap Attractive Dial, Product Category = Watches Sunglasses Jewellery/Watches/Men/Fashion, Brand Name = No Brand, Seller Name = Maal-Lo, URL = https://www.daraz.pk/products/-i409485404-s1960964280.html?search=1, Price Details = Original: Rs. 1000, Discounted: Rs. 699 | Original: Rs. 1000, Discounted: Rs. 900 | Original: Rs. 1000, Discounted: Rs. 799 | Original: Rs. 1000, Discounted: Rs. 580 | Original: Rs. 1000, Discounted: Rs. 590 | Original: Rs. 1000, Discounted: Rs. 580, Positive Seller Ratings = 90%, Ship on Time = 98%, Return Policy = 14 days free & easy return (Change of mind is not applicable)\n",
    "\n",
    "\n",
    "2. Product 08: Product Name = OMG's Stylish watch for men , steel Built Design , Heavy Weight Watch in Fashion and for Casual use, Product Category = Watches Sunglasses Jewellery/Watches/Men/Fashion, Brand Name = No Brand, Seller Name = OMGs, URL = https://www.daraz.pk/products/-i433228448-s2139698887.html?search=1, Price Details = Original: Rs. 2500, Discounted: Rs. 2199, Positive Seller Ratings = 96%, Ship on Time = 100%, Return Policy = 14 days free & easy return (Change of mind is not applicable)\n",
    "\n",
    "\n",
    "Please provide a detailed answer to the question: Show me watches from sellers with more than 90% positive ratings..\n",
    "Your answer should integrate the essence of all three responses, providing a unified answer that leverages the diverse perspectives or data points provided by three responses.\n",
    "<|im_end|>\n",
    "<|im_start|>assistant\n",
    "Based on the given information, we can identify watches from sellers who have more than 90% positive ratings by analyzing the product details and seller ratings provided.\n",
    "For example, the product \"OMG's Stylish watch for men\" has a price of Rs. 2500 and an average rating of 96%. Additionally, the seller \"OMGs\" has received positive ratings of 96% on their website.\n",
    "On the other hand, the product \"High Quality Wrist Watch For Men & Boys\" has a price of Rs. 1000 and an average rating of 100%. The seller \"Maal-Lo\" has received negative ratings of 90% on their website.\n",
    "Therefore, based on the analysis, watches from sellers with more than 90% positive ratings include the \"OMG's Stylish watch for men\" and \"High Quality Wrist Watch For Men & Boys\". These watches are likely to be well-received by customers due to their high quality and stylish design."
   ]
  },
  {
   "cell_type": "markdown",
   "metadata": {},
   "source": []
  }
 ],
 "metadata": {
  "kernelspec": {
   "display_name": "Python 3",
   "language": "python",
   "name": "python3"
  },
  "language_info": {
   "codemirror_mode": {
    "name": "ipython",
    "version": 3
   },
   "file_extension": ".py",
   "mimetype": "text/x-python",
   "name": "python",
   "nbconvert_exporter": "python",
   "pygments_lexer": "ipython3",
   "version": "3.11.4"
  }
 },
 "nbformat": 4,
 "nbformat_minor": 2
}
