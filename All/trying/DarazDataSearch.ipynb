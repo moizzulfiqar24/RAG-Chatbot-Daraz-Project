{
 "cells": [
  {
   "cell_type": "code",
   "execution_count": 50,
   "metadata": {},
   "outputs": [],
   "source": [
    "from gensim.models.doc2vec import Doc2Vec, TaggedDocument\n",
    "from langchain.document_loaders import TextLoader\n",
    "from langchain.text_splitter import CharacterTextSplitter\n",
    "from langchain.embeddings.openai import OpenAIEmbeddings\n",
    "from langchain.vectorstores import Chroma\n",
    "from sentence_transformers import SentenceTransformer\n",
    "from langchain.embeddings import GPT4AllEmbeddings"
   ]
  },
  {
   "cell_type": "code",
   "execution_count": 51,
   "metadata": {},
   "outputs": [],
   "source": [
    "with open('DarazData.txt', 'r', encoding=\"utf8\") as f:\n",
    "    document = f.readlines()"
   ]
  },
  {
   "cell_type": "code",
   "execution_count": 52,
   "metadata": {},
   "outputs": [],
   "source": [
    "documents = [TaggedDocument(doc, [i]) for i, doc in enumerate(document)]"
   ]
  },
  {
   "cell_type": "code",
   "execution_count": 53,
   "metadata": {},
   "outputs": [],
   "source": [
    "# model = Doc2Vec(documents, vector_size=100, min_count=1, workers=4, epochs=10)\n",
    "model = Doc2Vec(documents, vector_size=50, min_count=1, workers=4, epochs=5)\n",
    "model.train(documents, total_examples=model.corpus_count, epochs=model.epochs)"
   ]
  },
  {
   "cell_type": "code",
   "execution_count": 54,
   "metadata": {},
   "outputs": [
    {
     "name": "stdout",
     "output_type": "stream",
     "text": [
      "Corpus Count: 488\n",
      "Vector Size: 50\n",
      "Number of Document Vectors: 488\n",
      "Number of Word Vectors: 93\n"
     ]
    }
   ],
   "source": [
    "print(f\"Corpus Count: {model.corpus_count}\")\n",
    "print(f\"Vector Size: {model.vector_size}\")\n",
    "print(f\"Number of Document Vectors: {len(model.dv)}\")\n",
    "print(f\"Number of Word Vectors: {len(model.wv)}\")"
   ]
  },
  {
   "cell_type": "code",
   "execution_count": 55,
   "metadata": {},
   "outputs": [],
   "source": [
    "query = \"What are your refund policies?\"\n",
    "query_vector = model.infer_vector(query.split())"
   ]
  },
  {
   "cell_type": "code",
   "execution_count": 56,
   "metadata": {},
   "outputs": [
    {
     "name": "stdout",
     "output_type": "stream",
     "text": [
      "Similar Documents: [(383, 0.27928614616394043), (73, 0.2224072515964508), (36, 0.20126929879188538), (58, 0.17943215370178223), (72, 0.16449636220932007), (152, 0.1568303108215332), (157, 0.1521310657262802), (400, 0.14925546944141388), (392, 0.14541473984718323), (84, 0.14480553567409515)]\n"
     ]
    }
   ],
   "source": [
    "similar_documents = model.dv.most_similar([query_vector])\n",
    "print(\"Similar Documents:\", similar_documents)"
   ]
  },
  {
   "cell_type": "code",
   "execution_count": 57,
   "metadata": {},
   "outputs": [
    {
     "name": "stdout",
     "output_type": "stream",
     "text": [
      "Similarity: 0.27928614616394043 Document Text: When can I return my item? Return request must be raised within 14 days for Daraz Mall items and non-Daraz Mall items from the date of delivery. You can initiate the return request once the order status has been updated to “Delivered”. If the order has been delivered and the status has not updated, it will be updated within 24-48 hours. The return window will only begin when the status has been updated. Item is damaged, defective, or expired Item is incorrect, counterfeit or not as advertised Item is of incorrect size or does not fit you Item, freebie, or accessory is missing You changed your mind Men's/Women's Bags Luggages and Suitcases Men's/Women's Fashion Bedding Bath Exceptions are Duffel bags, innerwear and overseas products Note: Our marketplace items' 14-day return policy covers all orders placed on October 25th and onwards.\n",
      "\n",
      "Similarity: 0.2224072515964508 Document Text: What is the return policy for Daraz Mart products? Item is damaged, defective, or expired Item is incorrect, counterfeit, or not as advertised Item, freebie, or accessory is missing If you have received the order with the broken seal, or you have received the rotten vegetables kindly contact our Care Champs (Live Chat) with the picture of the order and airway bill. You can initiate the return request for Daraz Mart / Daraz Mall products within 14 days once the order status has been updated to “Delivered”. If the order has been delivered to you and the status has not been updated, it will be updated within 24-48 hours. The return window will only begin when the status has been updated and your return timeline will start from the Delivered status update.\n",
      "\n",
      "Similarity: 0.20126929879188538 Document Text: Can I order medicines on Daraz? Yes, you can now order your medicines from Daraz in the comfort of your home. Below are the details of this product. You can order medicines through prepayment methods (Easypaisa, JazzCash, Debit/Credit Card, Daraz Wallet) For the Medicines that need a prescription, the prescription can be shared with the seller through IM (Instant Messaging) Seller is allowed to contact the customer through Daraz chat Customers can directly contact the seller in case any order will not be delivered or there is any delay. (Instant Messaging) The delivery timeline for medicines is 5 days Customer can place only 3 items per order Order minimum value should be Rs. 320 Free delivery for all customers\n",
      "\n",
      "Similarity: 0.17943215370178223 Document Text: Can I play Daraz Candy without an internet connection? No, Daraz Candy requires an active internet connection to play. This ensures that your progress and rewards are properly recorded and synchronized with the game servers.\n",
      "\n",
      "Similarity: 0.16449636220932007 Document Text: How do I identify the Daraz Mart product? kc-oss-1689163072734-Group 9.png To order a Daraz Mart product, login to your daraz app (Android operating system), please make sure that you have the latest version of the app installed You can identify Daraz Mart products through the Daraz Mart tag on the product page\n",
      "\n",
      "Similarity: 0.1568303108215332 Document Text: What is Daraz Gift Card and how can I purchase it? Daraz Gift Card is a special prepaid voucher that you can gift to your loved ones so they can shop on Daraz and buy a gift for themselves as per their preference. kc-oss-1685949582762-b0b8ee915f84c83bd5d3fb7bb22389c8.png Go to Daraz Pay and click on \"\"Daraz Gift Card\"\" Select occasion if you wish to customize your gift card Select or enter the amount Enter details of the recipient Tap on \"\"Buy Now\"\" Once you completed your payment, your gift card will be sent to the recipient Note: Gift cards cannot be ordered on Cash on Delivery Purchased Daraz Gift Card will be sent to the indicated email address within 2 Business days, please make sure the email address is correct. To place orders above PKR 10,000 kindly update mobile number in Daraz Account (Account > Settings > Account information > Change Mobile Number) because our agents will call for verification & after clearance the order will be sent in 4 business day (from order date & time). Saturday and Sunday will not count in working days Important: Daraz Gift Cards can be used to purchase all the products available on the Daraz App or website except Utility Bills, Mobile TopUp, and Daraz Gift cards.\n",
      "\n",
      "Similarity: 0.1521310657262802 Document Text: How to redeem a Daraz Gift Card/Corporate Gift Card? kc-oss-1708600180164-Group 2021.png Daraz Gift Cards or corporate gift cards are only redeemable on Daraz. You can redeem gift card by entering the voucher code of Daraz Gift Card at the order check out page. Daraz Gift Card cannot be used with other voucher in a single order at check out. If the value of your order exceeds the value of the Gift Card, then outstanding order balance must be paid using any payment method. Unredeemed Daraz Gift Cards will expire in 365 days from the date of purchase.\n",
      "\n",
      "Similarity: 0.14925546944141388 Document Text: Does Daraz refund shipping fee? If the order is canceled. If the order delivery attempt is Failed by the courier. 1- Damaged, defective 2- Expired item 3- Incorrect 4- Not as advertised 5- Counterfeit item 6- Incorrect size 7- Missing items 8- Freebies or accessories 9- Change of mind (if applicable).\n",
      "\n",
      "Similarity: 0.14541473984718323 Document Text: How do I claim my warranty? Warranty can be claimed by presenting Warranty Card or Order Invoices at the respective brand's authorized service center Unstamped Warranty Card Outdated Warranty Card Mismatched Reference Numbers Warranty Card Missing\n",
      "\n",
      "Similarity: 0.14480553567409515 Document Text: What will be the duration of the live videos? Daraz encourages all sellers to keep it small to hold their customers' interest. The videos are usually 5-15 minutes long.\n",
      "\n"
     ]
    }
   ],
   "source": [
    "for idx, score in similar_documents:\n",
    "    print(f\"Similarity: {score} Document Text: {document[idx]}\")\n"
   ]
  },
  {
   "cell_type": "code",
   "execution_count": 58,
   "metadata": {},
   "outputs": [],
   "source": [
    "text_splitter = CharacterTextSplitter(separator=\"\\n\", chunk_size=800, chunk_overlap=0)\n"
   ]
  },
  {
   "cell_type": "code",
   "execution_count": 59,
   "metadata": {},
   "outputs": [
    {
     "name": "stderr",
     "output_type": "stream",
     "text": [
      "Created a chunk of size 26958, which is longer than the specified 800\n",
      "Created a chunk of size 1422, which is longer than the specified 800\n",
      "Created a chunk of size 1350, which is longer than the specified 800\n",
      "Created a chunk of size 868, which is longer than the specified 800\n",
      "Created a chunk of size 871, which is longer than the specified 800\n",
      "Created a chunk of size 1285, which is longer than the specified 800\n",
      "Created a chunk of size 2500, which is longer than the specified 800\n",
      "Created a chunk of size 1005, which is longer than the specified 800\n",
      "Created a chunk of size 2032, which is longer than the specified 800\n",
      "Created a chunk of size 945, which is longer than the specified 800\n",
      "Created a chunk of size 976, which is longer than the specified 800\n",
      "Created a chunk of size 860, which is longer than the specified 800\n",
      "Created a chunk of size 823, which is longer than the specified 800\n",
      "Created a chunk of size 1537, which is longer than the specified 800\n",
      "Created a chunk of size 911, which is longer than the specified 800\n",
      "Created a chunk of size 866, which is longer than the specified 800\n",
      "Created a chunk of size 841, which is longer than the specified 800\n",
      "Created a chunk of size 1662, which is longer than the specified 800\n",
      "Created a chunk of size 2178, which is longer than the specified 800\n",
      "Created a chunk of size 1608, which is longer than the specified 800\n",
      "Created a chunk of size 1388, which is longer than the specified 800\n",
      "Created a chunk of size 881, which is longer than the specified 800\n",
      "Created a chunk of size 1218, which is longer than the specified 800\n",
      "Created a chunk of size 1121, which is longer than the specified 800\n",
      "Created a chunk of size 1165, which is longer than the specified 800\n",
      "Created a chunk of size 808, which is longer than the specified 800\n",
      "Created a chunk of size 960, which is longer than the specified 800\n",
      "Created a chunk of size 957, which is longer than the specified 800\n",
      "Created a chunk of size 1483, which is longer than the specified 800\n",
      "Created a chunk of size 1270, which is longer than the specified 800\n",
      "Created a chunk of size 968, which is longer than the specified 800\n",
      "Created a chunk of size 2486, which is longer than the specified 800\n",
      "Created a chunk of size 1149, which is longer than the specified 800\n",
      "Created a chunk of size 949, which is longer than the specified 800\n",
      "Created a chunk of size 963, which is longer than the specified 800\n",
      "Created a chunk of size 821, which is longer than the specified 800\n",
      "Created a chunk of size 940, which is longer than the specified 800\n",
      "Created a chunk of size 2510, which is longer than the specified 800\n",
      "Created a chunk of size 1247, which is longer than the specified 800\n",
      "Created a chunk of size 922, which is longer than the specified 800\n",
      "Created a chunk of size 1407, which is longer than the specified 800\n",
      "Created a chunk of size 1085, which is longer than the specified 800\n",
      "Created a chunk of size 1101, which is longer than the specified 800\n",
      "Created a chunk of size 830, which is longer than the specified 800\n",
      "Created a chunk of size 1334, which is longer than the specified 800\n",
      "Created a chunk of size 1167, which is longer than the specified 800\n",
      "Created a chunk of size 881, which is longer than the specified 800\n",
      "Created a chunk of size 1055, which is longer than the specified 800\n",
      "Created a chunk of size 1171, which is longer than the specified 800\n",
      "Created a chunk of size 1244, which is longer than the specified 800\n",
      "Created a chunk of size 1341, which is longer than the specified 800\n",
      "Created a chunk of size 946, which is longer than the specified 800\n",
      "Created a chunk of size 893, which is longer than the specified 800\n",
      "Created a chunk of size 1069, which is longer than the specified 800\n",
      "Created a chunk of size 1301, which is longer than the specified 800\n",
      "Created a chunk of size 1754, which is longer than the specified 800\n",
      "Created a chunk of size 830, which is longer than the specified 800\n",
      "Created a chunk of size 840, which is longer than the specified 800\n",
      "Created a chunk of size 845, which is longer than the specified 800\n",
      "Created a chunk of size 1200, which is longer than the specified 800\n",
      "Created a chunk of size 826, which is longer than the specified 800\n",
      "Created a chunk of size 1022, which is longer than the specified 800\n",
      "Created a chunk of size 3013, which is longer than the specified 800\n",
      "Created a chunk of size 993, which is longer than the specified 800\n"
     ]
    }
   ],
   "source": [
    "loader = TextLoader(\"DarazData.txt\")\n",
    "docs = loader.load()\n",
    "splits = text_splitter.split_documents(docs)"
   ]
  },
  {
   "cell_type": "code",
   "execution_count": 60,
   "metadata": {},
   "outputs": [],
   "source": [
    "# # %%\n",
    "# # Use Sentence Transformers to generate embeddings for example sentences\n",
    "# sentences = [\"This is an example sentence\", \"Each sentence is converted\"]\n",
    "# sentence_model = SentenceTransformer('all-MiniLM-L6-v2')\n",
    "# embeddings = sentence_model.encode(sentences)\n",
    "# print(\"Embeddings Shape:\", embeddings.shape)\n"
   ]
  },
  {
   "cell_type": "code",
   "execution_count": 61,
   "metadata": {},
   "outputs": [],
   "source": [
    "persist_directory = 'chroma/DarazSearch'\n",
    "vectordb = Chroma.from_documents(\n",
    "    documents=splits,\n",
    "    embedding=GPT4AllEmbeddings(),\n",
    "    persist_directory=persist_directory\n",
    ")\n",
    "vectordb.persist()"
   ]
  },
  {
   "cell_type": "code",
   "execution_count": 62,
   "metadata": {},
   "outputs": [
    {
     "name": "stdout",
     "output_type": "stream",
     "text": [
      "\n",
      "\n",
      "0.6251944899559021\n",
      "Refund Process:\n",
      "\n",
      "\n",
      "0.805809497833252\n",
      "Refund Voucher\n",
      "\n",
      "\n",
      "0.8660830855369568\n",
      "Free & Easy Returns Policy:\n"
     ]
    }
   ],
   "source": [
    "docs = vectordb.similarity_search_with_score(query, k=3)\n",
    "for result in docs:\n",
    "    print(\"\\n\")\n",
    "    print(result[1])\n",
    "    print(result[0].page_content)"
   ]
  },
  {
   "cell_type": "code",
   "execution_count": 63,
   "metadata": {},
   "outputs": [],
   "source": [
    "# with open(\"search_results.txt\", \"w\") as file:\n",
    "#     for result in docs:\n",
    "#         # Write a separator for each result\n",
    "#         file.write(\"\\n\")\n",
    "#         file.write(str(result[1]) + \"\\n\")  # Convert the title to string before writing\n",
    "#         file.write(result[0].page_content + \"\\n\")  # Write the page content"
   ]
  },
  {
   "cell_type": "code",
   "execution_count": 64,
   "metadata": {},
   "outputs": [
    {
     "name": "stdout",
     "output_type": "stream",
     "text": [
      "question = \"What are your refund policies?\"\n",
      "response1 = \"Refund Process:\"\n",
      "response2 = \"Refund Voucher\"\n",
      "response3 = \"Free & Easy Returns Policy:\"\n"
     ]
    }
   ],
   "source": [
    "print(\"question = \\\"\" + query + \"\\\"\")\n",
    "count = 1\n",
    "for result in docs:\n",
    "    print(f\"response\" + str(count) + \" = \\\"\" + result[0].page_content + \"\\\"\")  \n",
    "    count+=1"
   ]
  },
  {
   "cell_type": "code",
   "execution_count": 65,
   "metadata": {},
   "outputs": [],
   "source": [
    "# with open(\"search_results.txt\", \"w\") as file:\n",
    "#     response_number = 1\n",
    "#     for result in docs:\n",
    "#         file.write(\"response{} =\".format(response_number))\n",
    "#         # file.write(str(result[1]) + \"\\n\")  # Convert the title to string before writing\n",
    "#         file.write(result[0].page_content + \"\\n\")  \n",
    "#         response_number += 1"
   ]
  },
  {
   "cell_type": "code",
   "execution_count": null,
   "metadata": {},
   "outputs": [],
   "source": []
  }
 ],
 "metadata": {
  "kernelspec": {
   "display_name": "Python 3",
   "language": "python",
   "name": "python3"
  },
  "language_info": {
   "codemirror_mode": {
    "name": "ipython",
    "version": 3
   },
   "file_extension": ".py",
   "mimetype": "text/x-python",
   "name": "python",
   "nbconvert_exporter": "python",
   "pygments_lexer": "ipython3",
   "version": "3.11.4"
  }
 },
 "nbformat": 4,
 "nbformat_minor": 2
}
