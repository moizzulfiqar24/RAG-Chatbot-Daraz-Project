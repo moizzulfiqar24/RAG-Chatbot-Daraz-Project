{
 "cells": [
  {
   "cell_type": "markdown",
   "metadata": {},
   "source": [
    "# Using Sentence Embedding"
   ]
  },
  {
   "cell_type": "code",
   "execution_count": 53,
   "metadata": {},
   "outputs": [],
   "source": [
    "# %%\n",
    "from sentence_transformers import SentenceTransformer, util\n",
    "import numpy as np\n",
    "import torch\n",
    "import re\n",
    "\n",
    "file_name = \"DarazDataSeller.txt\"\n",
    "search_query = \"Can I make product bundles on Daraz?\"\n",
    "search_query = re.sub(r'\\bDaraz\\b\\s*', '', search_query, flags=re.IGNORECASE)\n",
    "\n",
    "# %%\n",
    "# Load the data from the text file\n",
    "with open(file_name, 'r', encoding=\"utf8\") as f:\n",
    "    products = f.readlines()\n",
    "\n",
    "# %%\n",
    "# Initialize the sentence transformer model for generating embeddings\n",
    "model = SentenceTransformer('all-MiniLM-L6-v2')\n",
    "\n",
    "# Generate embeddings for each product\n",
    "product_embeddings = model.encode(products, convert_to_tensor=True)"
   ]
  },
  {
   "cell_type": "code",
   "execution_count": 54,
   "metadata": {},
   "outputs": [
    {
     "name": "stdout",
     "output_type": "stream",
     "text": [
      "Query: Can I make product bundles on ?\n",
      "\n",
      "Score: 0.6566495895385742\n",
      "Product Details: Why should I create bundles? Sellers can create bundles to differentiate their deals from competitors, especially in high-priced competitive categories It's a great opportunity to sell low-cost items as part of a bundle Bundles allow sellers to clear their inventory of whatever products they choose Additionally, bundles are a foolproof way to attract customers and increase conversion rate, sales and enhance overall performance.\n",
      "\n",
      "\n",
      "Score: 0.6418728828430176\n",
      "Product Details: What are the Benefits of creating Product Bundles? Sellers can create bundles to differentiate their deals from competitors, especially in high-priced competitive categories It’s a great opportunity to sell low cost items as part of a bundle Bundles allow Sellers to clear their inventory of whatever products they choose Additionally, bundles are a full proof way to attract customers and increase conversion rate, sales and enhance overall performance\n",
      "\n"
     ]
    }
   ],
   "source": [
    "# %%\n",
    "# Define a function to search for similar products\n",
    "def search_products(query, k):\n",
    "    query_embedding = model.encode(query, convert_to_tensor=True)\n",
    "    cosine_scores = util.pytorch_cos_sim(query_embedding, product_embeddings)[0]\n",
    "    top_results = torch.topk(cosine_scores, k=k)\n",
    "\n",
    "    print(\"Query:\", query)\n",
    "    for score, idx in zip(top_results[0], top_results[1]):\n",
    "        print(\"\\nScore:\", score.item())\n",
    "        print(\"Product Details:\", products[idx])\n",
    "\n",
    "# %%\n",
    "search_products(search_query, 2)"
   ]
  },
  {
   "cell_type": "markdown",
   "metadata": {},
   "source": [
    "# Using VectorDB"
   ]
  },
  {
   "cell_type": "code",
   "execution_count": 55,
   "metadata": {},
   "outputs": [],
   "source": [
    "from gensim.models.doc2vec import Doc2Vec, TaggedDocument\n",
    "from langchain.document_loaders import TextLoader\n",
    "from langchain.text_splitter import CharacterTextSplitter\n",
    "from langchain.embeddings.openai import OpenAIEmbeddings\n",
    "from langchain.vectorstores import Chroma\n",
    "from sentence_transformers import SentenceTransformer\n",
    "from langchain.embeddings import GPT4AllEmbeddings"
   ]
  },
  {
   "cell_type": "code",
   "execution_count": 56,
   "metadata": {},
   "outputs": [],
   "source": [
    "query = search_query"
   ]
  },
  {
   "cell_type": "code",
   "execution_count": 57,
   "metadata": {},
   "outputs": [],
   "source": [
    "text_splitter = CharacterTextSplitter(separator=\"\\n\", chunk_size=650, chunk_overlap=0)"
   ]
  },
  {
   "cell_type": "code",
   "execution_count": 58,
   "metadata": {},
   "outputs": [
    {
     "name": "stderr",
     "output_type": "stream",
     "text": [
      "Created a chunk of size 1024, which is longer than the specified 650\n",
      "Created a chunk of size 1289, which is longer than the specified 650\n",
      "Created a chunk of size 941, which is longer than the specified 650\n",
      "Created a chunk of size 1352, which is longer than the specified 650\n",
      "Created a chunk of size 2262, which is longer than the specified 650\n",
      "Created a chunk of size 7956, which is longer than the specified 650\n",
      "Created a chunk of size 2841, which is longer than the specified 650\n",
      "Created a chunk of size 1245, which is longer than the specified 650\n",
      "Created a chunk of size 1199, which is longer than the specified 650\n",
      "Created a chunk of size 2920, which is longer than the specified 650\n",
      "Created a chunk of size 1238, which is longer than the specified 650\n",
      "Created a chunk of size 965, which is longer than the specified 650\n",
      "Created a chunk of size 664, which is longer than the specified 650\n",
      "Created a chunk of size 2399, which is longer than the specified 650\n",
      "Created a chunk of size 938, which is longer than the specified 650\n",
      "Created a chunk of size 984, which is longer than the specified 650\n",
      "Created a chunk of size 984, which is longer than the specified 650\n",
      "Created a chunk of size 825, which is longer than the specified 650\n",
      "Created a chunk of size 1065, which is longer than the specified 650\n",
      "Created a chunk of size 801, which is longer than the specified 650\n",
      "Created a chunk of size 963, which is longer than the specified 650\n",
      "Created a chunk of size 831, which is longer than the specified 650\n",
      "Created a chunk of size 1181, which is longer than the specified 650\n",
      "Created a chunk of size 1239, which is longer than the specified 650\n",
      "Created a chunk of size 1421, which is longer than the specified 650\n",
      "Created a chunk of size 1538, which is longer than the specified 650\n",
      "Created a chunk of size 1731, which is longer than the specified 650\n",
      "Created a chunk of size 909, which is longer than the specified 650\n",
      "Created a chunk of size 855, which is longer than the specified 650\n",
      "Created a chunk of size 668, which is longer than the specified 650\n",
      "Created a chunk of size 866, which is longer than the specified 650\n",
      "Created a chunk of size 2714, which is longer than the specified 650\n",
      "Created a chunk of size 973, which is longer than the specified 650\n",
      "Created a chunk of size 1561, which is longer than the specified 650\n",
      "Created a chunk of size 1050, which is longer than the specified 650\n",
      "Created a chunk of size 1916, which is longer than the specified 650\n",
      "Created a chunk of size 1235, which is longer than the specified 650\n",
      "Created a chunk of size 939, which is longer than the specified 650\n",
      "Created a chunk of size 1236, which is longer than the specified 650\n",
      "Created a chunk of size 924, which is longer than the specified 650\n",
      "Created a chunk of size 666, which is longer than the specified 650\n",
      "Created a chunk of size 654, which is longer than the specified 650\n",
      "Created a chunk of size 724, which is longer than the specified 650\n",
      "Created a chunk of size 1046, which is longer than the specified 650\n",
      "Created a chunk of size 914, which is longer than the specified 650\n",
      "Created a chunk of size 1144, which is longer than the specified 650\n",
      "Created a chunk of size 1642, which is longer than the specified 650\n",
      "Created a chunk of size 900, which is longer than the specified 650\n",
      "Created a chunk of size 1329, which is longer than the specified 650\n",
      "Created a chunk of size 1239, which is longer than the specified 650\n",
      "Created a chunk of size 1448, which is longer than the specified 650\n",
      "Created a chunk of size 2868, which is longer than the specified 650\n",
      "Created a chunk of size 811, which is longer than the specified 650\n",
      "Created a chunk of size 1249, which is longer than the specified 650\n",
      "Created a chunk of size 855, which is longer than the specified 650\n",
      "Created a chunk of size 1137, which is longer than the specified 650\n",
      "Created a chunk of size 1001, which is longer than the specified 650\n",
      "Created a chunk of size 1276, which is longer than the specified 650\n",
      "Created a chunk of size 1265, which is longer than the specified 650\n",
      "Created a chunk of size 1639, which is longer than the specified 650\n",
      "Created a chunk of size 1594, which is longer than the specified 650\n",
      "Created a chunk of size 1813, which is longer than the specified 650\n",
      "Created a chunk of size 680, which is longer than the specified 650\n",
      "Created a chunk of size 1404, which is longer than the specified 650\n",
      "Created a chunk of size 2672, which is longer than the specified 650\n",
      "Created a chunk of size 1370, which is longer than the specified 650\n",
      "Created a chunk of size 1297, which is longer than the specified 650\n",
      "Created a chunk of size 1679, which is longer than the specified 650\n",
      "Created a chunk of size 2111, which is longer than the specified 650\n"
     ]
    }
   ],
   "source": [
    "loader = TextLoader(file_name)\n",
    "docs = loader.load()\n",
    "splits = text_splitter.split_documents(docs)"
   ]
  },
  {
   "cell_type": "code",
   "execution_count": 59,
   "metadata": {},
   "outputs": [],
   "source": [
    "persist_directory = 'chroma/Retrieval' + str(file_name)\n",
    "vectordb = Chroma.from_documents(\n",
    "    documents=splits,\n",
    "    embedding=GPT4AllEmbeddings(),\n",
    "    persist_directory=persist_directory\n",
    ")\n",
    "vectordb.persist()"
   ]
  },
  {
   "cell_type": "code",
   "execution_count": 60,
   "metadata": {},
   "outputs": [
    {
     "name": "stdout",
     "output_type": "stream",
     "text": [
      "\n",
      "\n",
      "0.7157486102717291\n",
      "What are the Benefits of creating Product Bundles? Sellers can create bundles to differentiate their deals from competitors, especially in high-priced competitive categories It’s a great opportunity to sell low cost items as part of a bundle Bundles allow Sellers to clear their inventory of whatever products they choose Additionally, bundles are a full proof way to attract customers and increase conversion rate, sales and enhance overall performance\n",
      "\n",
      "\n",
      "0.7157490849494934\n",
      "What are the Benefits of creating Product Bundles? Sellers can create bundles to differentiate their deals from competitors, especially in high-priced competitive categories It’s a great opportunity to sell low cost items as part of a bundle Bundles allow Sellers to clear their inventory of whatever products they choose Additionally, bundles are a full proof way to attract customers and increase conversion rate, sales and enhance overall performance\n"
     ]
    }
   ],
   "source": [
    "docs = vectordb.similarity_search_with_score(query, k=2)\n",
    "for result in docs:\n",
    "    print(\"\\n\")\n",
    "    print(result[1])\n",
    "    print(result[0].page_content)"
   ]
  },
  {
   "cell_type": "code",
   "execution_count": 61,
   "metadata": {},
   "outputs": [
    {
     "name": "stdout",
     "output_type": "stream",
     "text": [
      "question = \"Can I make product bundles on ?\"\n",
      "response1 = \"What are the Benefits of creating Product Bundles? Sellers can create bundles to differentiate their deals from competitors, especially in high-priced competitive categories It’s a great opportunity to sell low cost items as part of a bundle Bundles allow Sellers to clear their inventory of whatever products they choose Additionally, bundles are a full proof way to attract customers and increase conversion rate, sales and enhance overall performance\"\n",
      "response2 = \"What are the Benefits of creating Product Bundles? Sellers can create bundles to differentiate their deals from competitors, especially in high-priced competitive categories It’s a great opportunity to sell low cost items as part of a bundle Bundles allow Sellers to clear their inventory of whatever products they choose Additionally, bundles are a full proof way to attract customers and increase conversion rate, sales and enhance overall performance\"\n"
     ]
    }
   ],
   "source": [
    "print(\"question = \\\"\" + query + \"\\\"\")\n",
    "count = 1\n",
    "for result in docs:\n",
    "    print(f\"response\" + str(count) + \" = \\\"\" + result[0].page_content + \"\\\"\")  \n",
    "    count+=1"
   ]
  },
  {
   "cell_type": "code",
   "execution_count": 62,
   "metadata": {},
   "outputs": [],
   "source": [
    "# from transformers import AutoModelForCausalLM, AutoTokenizer\n",
    "# from transformers.generation import GenerationConfig\n",
    "# import warnings\n",
    "# warnings.filterwarnings(\"ignore\")\n",
    "# import textwrap\n",
    "\n",
    "# !pip install tiktoken\n",
    "# !pip install tiktoken transformers_stream_generator einops optimum auto-gptq\n",
    "# tokenizer = AutoTokenizer.from_pretrained(\"Qwen/Qwen-1_8B-Chat\", trust_remote_code=True)\n",
    "# from transformers import pipeline\n",
    "# pipe = pipeline(\"text-generation\", model=\"Qwen/Qwen-1_8B-Chat\", device_map=\"auto\", trust_remote_code=True)\n",
    "\n",
    "# question = \"Show me watches from sellers with more than 90% positive ratings.\"\n",
    "# response1 = \"Product 12: Product Name = High Quality Wrist Watch For Men & Boys| Decent Wrist Leather Strap Attractive Dial, Product Category = Watches Sunglasses Jewellery/Watches/Men/Fashion, Brand Name = No Brand, Seller Name = Maal-Lo, URL = https://www.daraz.pk/products/-i409485404-s1960964280.html?search=1, Price Details = Original: Rs. 1000, Discounted: Rs. 699 | Original: Rs. 1000, Discounted: Rs. 900 | Original: Rs. 1000, Discounted: Rs. 799 | Original: Rs. 1000, Discounted: Rs. 580 | Original: Rs. 1000, Discounted: Rs. 590 | Original: Rs. 1000, Discounted: Rs. 580, Positive Seller Ratings = 90%, Ship on Time = 98%, Return Policy = 14 days free & easy return (Change of mind is not applicable)\"\n",
    "# response2 = \"Product 08: Product Name = OMG's Stylish watch for men , steel Built Design , Heavy Weight Watch in Fashion and for Casual use, Product Category = Watches Sunglasses Jewellery/Watches/Men/Fashion, Brand Name = No Brand, Seller Name = OMGs, URL = https://www.daraz.pk/products/-i433228448-s2139698887.html?search=1, Price Details = Original: Rs. 2500, Discounted: Rs. 2199, Positive Seller Ratings = 96%, Ship on Time = 100%, Return Policy = 14 days free & easy return (Change of mind is not applicable)\"\n",
    "\n",
    "# def get_completion(prompt):\n",
    "#     messages = [{\n",
    "#         \"role\": \"user\", \n",
    "#         \"content\": prompt }]\n",
    "#     prompt2 = pipe.tokenizer.apply_chat_template(messages, tokenize=False, add_generation_prompt=True)\n",
    "#     outputs = pipe(prompt2, max_new_tokens=400, do_sample=True, temperature=0.7, top_k=50, top_p=0.95)\n",
    "#     return outputs[0][\"generated_text\"]\n",
    "\n",
    "# prompt = f\"\"\"\n",
    "# Based on the following information:\\n\\n\n",
    "# 1. {response1}\\n\\n\n",
    "# 2. {response2}\\n\\n\n",
    "# 3. {response3}\\n\\n\n",
    "# Please provide a detailed answer to the question: {question}.\n",
    "# Your answer should integrate the essence of all three responses, providing a unified answer that leverages the \\\n",
    "# diverse perspectives or data points provided by three responses.\n",
    "# \"\"\"\n",
    "\n",
    "# response = get_completion(prompt)\n",
    "# print(response)"
   ]
  },
  {
   "cell_type": "markdown",
   "metadata": {},
   "source": [
    "Based on the following information:\n",
    "\n",
    "\n",
    "1. Product 12: Product Name = High Quality Wrist Watch For Men & Boys| Decent Wrist Leather Strap Attractive Dial, Product Category = Watches Sunglasses Jewellery/Watches/Men/Fashion, Brand Name = No Brand, Seller Name = Maal-Lo, URL = https://www.daraz.pk/products/-i409485404-s1960964280.html?search=1, Price Details = Original: Rs. 1000, Discounted: Rs. 699 | Original: Rs. 1000, Discounted: Rs. 900 | Original: Rs. 1000, Discounted: Rs. 799 | Original: Rs. 1000, Discounted: Rs. 580 | Original: Rs. 1000, Discounted: Rs. 590 | Original: Rs. 1000, Discounted: Rs. 580, Positive Seller Ratings = 90%, Ship on Time = 98%, Return Policy = 14 days free & easy return (Change of mind is not applicable)\n",
    "\n",
    "\n",
    "2. Product 08: Product Name = OMG's Stylish watch for men , steel Built Design , Heavy Weight Watch in Fashion and for Casual use, Product Category = Watches Sunglasses Jewellery/Watches/Men/Fashion, Brand Name = No Brand, Seller Name = OMGs, URL = https://www.daraz.pk/products/-i433228448-s2139698887.html?search=1, Price Details = Original: Rs. 2500, Discounted: Rs. 2199, Positive Seller Ratings = 96%, Ship on Time = 100%, Return Policy = 14 days free & easy return (Change of mind is not applicable)\n",
    "\n",
    "\n",
    "Please provide a detailed answer to the question: Show me watches from sellers with more than 90% positive ratings..\n",
    "Your answer should integrate the essence of all three responses, providing a unified answer that leverages the diverse perspectives or data points provided by three responses.\n",
    "<|im_end|>\n",
    "<|im_start|>assistant\n",
    "Based on the given information, we can identify watches from sellers who have more than 90% positive ratings by analyzing the product details and seller ratings provided.\n",
    "For example, the product \"OMG's Stylish watch for men\" has a price of Rs. 2500 and an average rating of 96%. Additionally, the seller \"OMGs\" has received positive ratings of 96% on their website.\n",
    "On the other hand, the product \"High Quality Wrist Watch For Men & Boys\" has a price of Rs. 1000 and an average rating of 100%. The seller \"Maal-Lo\" has received negative ratings of 90% on their website.\n",
    "Therefore, based on the analysis, watches from sellers with more than 90% positive ratings include the \"OMG's Stylish watch for men\" and \"High Quality Wrist Watch For Men & Boys\". These watches are likely to be well-received by customers due to their high quality and stylish design."
   ]
  },
  {
   "cell_type": "markdown",
   "metadata": {},
   "source": []
  }
 ],
 "metadata": {
  "kernelspec": {
   "display_name": "Python 3",
   "language": "python",
   "name": "python3"
  },
  "language_info": {
   "codemirror_mode": {
    "name": "ipython",
    "version": 3
   },
   "file_extension": ".py",
   "mimetype": "text/x-python",
   "name": "python",
   "nbconvert_exporter": "python",
   "pygments_lexer": "ipython3",
   "version": "3.11.4"
  }
 },
 "nbformat": 4,
 "nbformat_minor": 2
}
